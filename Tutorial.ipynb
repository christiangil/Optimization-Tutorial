{
 "cells": [
  {
   "cell_type": "code",
   "execution_count": 92,
   "metadata": {},
   "outputs": [],
   "source": [
    "import numpy as np\n",
    "import numpy.random as rd\n",
    "import os\n",
    "import matplotlib.pyplot as plt\n",
    "%matplotlib inline\n",
    "import pandas as pd\n",
    "from sklearn import metrics\n",
    "import xgboost as xgb\n",
    "from xgboost.sklearn import XGBClassifier\n",
    "from hyperopt import hp, fmin, tpe, STATUS_OK, Trials\n",
    "import hyperopt\n",
    "import dill\n",
    "import sys\n",
    "sys.path.append('../Dan_research/spock')\n",
    "from spock.modelfitting import train_test_split, ROC_curve, stable_unstable_hist, calibration_plot, unstable_error_fraction\n",
    "from spock.feature_functions import features\n",
    "import rebound\n",
    "import dask.dataframe as dd\n",
    "from multiprocessing import Pool\n",
    "\n",
    "n_workers=os.cpu_count()"
   ]
  },
  {
   "cell_type": "code",
   "execution_count": 93,
   "metadata": {},
   "outputs": [],
   "source": [
    "os.system(\"jupyter nbconvert --to markdown Tutorial.ipynb\");"
   ]
  },
  {
   "cell_type": "markdown",
   "metadata": {},
   "source": [
    "# Generating fake systems"
   ]
  },
  {
   "cell_type": "code",
   "execution_count": 2,
   "metadata": {},
   "outputs": [],
   "source": [
    "seconds_p_day = 86400\n",
    "days_p_year = 365.25\n",
    "meters_p_AU = 149597870700\n",
    "earth_mass_p_solar_mass = 333000\n",
    "year_p_reboundtime = 1 / (2 * np.pi)\n",
    "AU_p_RS = 0.00465047\n",
    "\n",
    "def replace_snapshot(sim, filename):\n",
    "    if os.path.isfile(filename):\n",
    "        os.remove(filename)\n",
    "    sim.simulationarchive_snapshot(filename)\n",
    "    \n",
    "def loguniform(low=0.001, high=1, size=None):\n",
    "    return np.exp(rd.uniform(np.log(low), np.log(high), size))\n",
    "\n",
    "def max_e_inner(a_in, a_out, e_out=0):\n",
    "    return a_out / a_in * (1 - e_out) - 1\n",
    "\n",
    "def max_e_outer(a_out, a_in, e_in=0):\n",
    "    return 1 - a_in / a_out * (1 + e_in)\n",
    "\n",
    "def min_es(ms, As):\n",
    "    Nplanets = len(ms)\n",
    "    e_mins = np.zeros(Nplanets)\n",
    "    for i in range(Nplanets):\n",
    "        e_mins[i] = As[i] ** 2\n",
    "        inner_sum = 0\n",
    "        for j in range(Nplanets):\n",
    "            if i != j:\n",
    "                inner_sum += (ms[j] / np.max([As[i], As[j]]) ** 2) ** 2\n",
    "        e_mins[i] *= np.sqrt(inner_sum)\n",
    "    return e_mins\n",
    "\n",
    "def check_es(a0, e0, a1, e1, a2, e2):\n",
    "    return (e0 <= max_e_inner(a0, a1, e1)) and (e1 <= max_e_inner(a1, a2, e2)) and (e1 <= max_e_outer(a1, a0, e0)) and (e2 <= max_e_outer(a2, a1, e1))\n",
    "\n",
    "\n",
    "def collision(reb_sim, col):\n",
    "    reb_sim.contents._status = 5\n",
    "    return 0\n",
    "\n",
    "\n",
    "\"\"\"\n",
    "Generating random systems\n",
    "Using methodolgy similar to Tamayo et al. 2020 (in prep)\n",
    "\"\"\"\n",
    "def generate_system():\n",
    "    Mstar = 1\n",
    "    mutual_hill_radii_sep = rd.uniform(0, 40, 2)\n",
    "    incs = rd.uniform(1e-3, 1e-1, 3)  # inclinations (radians)\n",
    "    Ws = 2 * np.pi * rd.rand(3)  # longitude of ascending node (radians)\n",
    "    ws = 2 * np.pi * rd.rand(3)  # pericenter orientation (radians)\n",
    "    Ms = 2 * np.pi * rd.rand(3)  # initial orbital phase (radians)\n",
    "    ms = loguniform(1e-7, 1e-4, 3)  # mass ratios of planets to star, from ~1/3 Mars to ~2x Neptune \n",
    "    \n",
    "    As = np.ones(3)\n",
    "    As[0] = rd.uniform(low=0.5, high=1.5)  # first planet is 0.5 to 1.5 AU from central star\n",
    "    for i in range(1,3):  # the other semi major axes are chosen by a mutual radii separation of 0-30\n",
    "        shared_quant = np.cbrt(9 * (ms[i-1] + ms[i]) / Mstar) * mutual_hill_radii_sep[i-1]\n",
    "        As[i] = As[i-1] * (6 + shared_quant) / (6 - shared_quant)\n",
    "    \n",
    "    radii = As * np.cbrt(ms[i] / Mstar / 3)\n",
    "        \n",
    "    es = np.array([0,0,0])\n",
    "    bad_es = True\n",
    "    e0_max = np.min([max_e_inner(As[0], As[1]), 1])\n",
    "    e1_max = np.min([np.minimum(max_e_inner(As[1], As[2], es[2]), max_e_outer(As[1], As[0])), 1]) # ~0.15\n",
    "    e2_max = np.min([max_e_outer(As[2], As[1]), 1])\n",
    "    e_mins = min_es(ms, As)\n",
    "    while bad_es:\n",
    "        es = np.array([loguniform(e_mins[0], e0_max), loguniform(e_mins[1], e1_max), loguniform(e_mins[2], e2_max)])\n",
    "        bad_es = not check_es(As[0], es[0], As[1], es[1], As[2], es[2])\n",
    "\n",
    "    sim = rebound.Simulation()\n",
    "    sim.add(m=1.)\n",
    "#     print(ms, As, es, Ws, ws, Ms, incs)\n",
    "    for i in range(3):\n",
    "        sim.add(m=ms[i], a=As[i], e=es[i], Omega=Ws[i], omega=ws[i], M=Ms[i], inc=incs[i], r=radii[i])\n",
    "    sim.move_to_com()\n",
    "    \n",
    "    sim.collision = 'line'\n",
    "    sim.collision_resolve = collision\n",
    "    sim.ri_whfast.keep_unsynchronized = 1\n",
    "    sim.ri_whfast.safe_mode = 0\n",
    "    \n",
    "    sim.integrator = \"whfast\"\n",
    "    sim.dt = np.sqrt(2) / 20 * sim.particles[1].P\n",
    "        \n",
    "    return sim"
   ]
  },
  {
   "cell_type": "code",
   "execution_count": 3,
   "metadata": {},
   "outputs": [],
   "source": [
    "sim_names = \"new_sims/\"\n",
    "n = 1024\n",
    "sa_names = [(\"id_%5.0d.bin\"%i).replace(\" \",\"0\") for i in range(n)]\n",
    "\n",
    "# for i in range(n):\n",
    "#     sim = generate_system()\n",
    "#     replace_snapshot(sim, sim_names + sa_names[i])"
   ]
  },
  {
   "cell_type": "code",
   "execution_count": 4,
   "metadata": {},
   "outputs": [
    {
     "name": "stderr",
     "output_type": "stream",
     "text": [
      "/storage/home/cjg66/miniconda3/lib/python3.7/site-packages/rebound/simulationarchive.py:132: RuntimeWarning: You have to reset function pointers after creating a reb_simulation struct with a binary file.\n",
      "  warnings.warn(message, RuntimeWarning)\n"
     ]
    },
    {
     "name": "stdout",
     "output_type": "stream",
     "text": [
      "[9.236279635514508, 9.37156174997462, 11.379964740314742]\n",
      "[0.01669623291109905, 0.016858871869785186, 0.019188840905719342]\n"
     ]
    },
    {
     "data": {
      "text/plain": [
       "(<Figure size 360x360 with 1 Axes>,\n",
       " <matplotlib.axes._subplots.AxesSubplot at 0x7fe3dc87cb10>)"
      ]
     },
     "execution_count": 4,
     "metadata": {},
     "output_type": "execute_result"
    },
    {
     "data": {
      "image/png": "[encoded data removed]",
      "text/plain": [
       "<Figure size 360x360 with 1 Axes>"
      ]
     },
     "metadata": {
      "needs_background": "light"
     },
     "output_type": "display_data"
    }
   ],
   "source": [
    "sim = rebound.SimulationArchive(sim_names + sa_names[0])[0]\n",
    "print([sim.particles[1+i].P for i in range(3)])\n",
    "print([sim.particles[1+i].r for i in range(3)])\n",
    "# print(features(sim, features_args))\n",
    "rebound.OrbitPlot(sim)"
   ]
  },
  {
   "cell_type": "markdown",
   "metadata": {},
   "source": [
    "# Calculating features"
   ]
  },
  {
   "cell_type": "code",
   "execution_count": 47,
   "metadata": {},
   "outputs": [],
   "source": [
    "Norbits = 1e4\n",
    "Nout = 80\n",
    "trios = [[i,i+1,i+2] for i in range(1,sim.N_real-2)]\n",
    "features_args = [Norbits, Nout] + [trios]\n",
    "\n",
    "def calculate_features(row):\n",
    "    res, stable = features(rebound.SimulationArchive(sim_names + \"sims/\" + row[\"sim\"])[0], features_args)\n",
    "    r = res[0]\n",
    "    return pd.Series(r, index=list(r.keys()))"
   ]
  },
  {
   "cell_type": "code",
   "execution_count": 48,
   "metadata": {},
   "outputs": [
    {
     "name": "stderr",
     "output_type": "stream",
     "text": [
      "/storage/home/cjg66/miniconda3/lib/python3.7/site-packages/rebound/simulationarchive.py:132: RuntimeWarning: You have to reset function pointers after creating a reb_simulation struct with a binary file.\n",
      "  warnings.warn(message, RuntimeWarning)\n"
     ]
    },
    {
     "ename": "TypeError",
     "evalue": "'list' object is not callable",
     "output_type": "error",
     "traceback": [
      "\u001b[0;31m---------------------------------------------------------------------------\u001b[0m",
      "\u001b[0;31mTypeError\u001b[0m                                 Traceback (most recent call last)",
      "\u001b[0;32m<ipython-input-48-e77c978b1e02>\u001b[0m in \u001b[0;36m<module>\u001b[0;34m\u001b[0m\n\u001b[1;32m      2\u001b[0m \u001b[0mdf\u001b[0m \u001b[0;34m=\u001b[0m \u001b[0mpd\u001b[0m\u001b[0;34m.\u001b[0m\u001b[0mDataFrame\u001b[0m\u001b[0;34m(\u001b[0m\u001b[0mdata\u001b[0m\u001b[0;34m=\u001b[0m\u001b[0msa_names\u001b[0m\u001b[0;34m,\u001b[0m \u001b[0mcolumns\u001b[0m\u001b[0;34m=\u001b[0m\u001b[0;34m[\u001b[0m\u001b[0;34m\"sim\"\u001b[0m\u001b[0;34m]\u001b[0m\u001b[0;34m)\u001b[0m\u001b[0;34m\u001b[0m\u001b[0;34m\u001b[0m\u001b[0m\n\u001b[1;32m      3\u001b[0m \u001b[0mddf\u001b[0m \u001b[0;34m=\u001b[0m \u001b[0mdd\u001b[0m\u001b[0;34m.\u001b[0m\u001b[0mfrom_pandas\u001b[0m\u001b[0;34m(\u001b[0m\u001b[0mdf\u001b[0m\u001b[0;34m,\u001b[0m \u001b[0mnpartitions\u001b[0m\u001b[0;34m=\u001b[0m\u001b[0mn_workers\u001b[0m\u001b[0;34m)\u001b[0m\u001b[0;34m\u001b[0m\u001b[0;34m\u001b[0m\u001b[0m\n\u001b[0;32m----> 4\u001b[0;31m \u001b[0mtestres\u001b[0m \u001b[0;34m=\u001b[0m \u001b[0mcalculate_features\u001b[0m\u001b[0;34m(\u001b[0m\u001b[0mdf\u001b[0m\u001b[0;34m.\u001b[0m\u001b[0mloc\u001b[0m\u001b[0;34m[\u001b[0m\u001b[0;36m0\u001b[0m\u001b[0;34m]\u001b[0m\u001b[0;34m)\u001b[0m\u001b[0;34m\u001b[0m\u001b[0;34m\u001b[0m\u001b[0m\n\u001b[0m\u001b[1;32m      5\u001b[0m \u001b[0mmetadf\u001b[0m \u001b[0;34m=\u001b[0m \u001b[0mpd\u001b[0m\u001b[0;34m.\u001b[0m\u001b[0mDataFrame\u001b[0m\u001b[0;34m(\u001b[0m\u001b[0;34m[\u001b[0m\u001b[0mtestres\u001b[0m\u001b[0;34m]\u001b[0m\u001b[0;34m)\u001b[0m\u001b[0;34m\u001b[0m\u001b[0;34m\u001b[0m\u001b[0m\n\u001b[1;32m      6\u001b[0m \u001b[0;31m# feats = ddf.apply(calculate_features, axis=1, meta=metadf).compute(scheduler='processes')\u001b[0m\u001b[0;34m\u001b[0m\u001b[0;34m\u001b[0m\u001b[0;34m\u001b[0m\u001b[0m\n",
      "\u001b[0;32m<ipython-input-47-609b727e2d84>\u001b[0m in \u001b[0;36mcalculate_features\u001b[0;34m(row)\u001b[0m\n\u001b[1;32m      5\u001b[0m \u001b[0;34m\u001b[0m\u001b[0m\n\u001b[1;32m      6\u001b[0m \u001b[0;32mdef\u001b[0m \u001b[0mcalculate_features\u001b[0m\u001b[0;34m(\u001b[0m\u001b[0mrow\u001b[0m\u001b[0;34m)\u001b[0m\u001b[0;34m:\u001b[0m\u001b[0;34m\u001b[0m\u001b[0;34m\u001b[0m\u001b[0m\n\u001b[0;32m----> 7\u001b[0;31m     \u001b[0mres\u001b[0m\u001b[0;34m,\u001b[0m \u001b[0mstable\u001b[0m \u001b[0;34m=\u001b[0m \u001b[0mfeatures\u001b[0m\u001b[0;34m(\u001b[0m\u001b[0mrebound\u001b[0m\u001b[0;34m.\u001b[0m\u001b[0mSimulationArchive\u001b[0m\u001b[0;34m(\u001b[0m\u001b[0msim_names\u001b[0m \u001b[0;34m+\u001b[0m \u001b[0;34m\"sims/\"\u001b[0m \u001b[0;34m+\u001b[0m \u001b[0mrow\u001b[0m\u001b[0;34m[\u001b[0m\u001b[0;34m\"sim\"\u001b[0m\u001b[0;34m]\u001b[0m\u001b[0;34m)\u001b[0m\u001b[0;34m[\u001b[0m\u001b[0;36m0\u001b[0m\u001b[0;34m]\u001b[0m\u001b[0;34m,\u001b[0m \u001b[0mfeatures_args\u001b[0m\u001b[0;34m)\u001b[0m\u001b[0;34m\u001b[0m\u001b[0;34m\u001b[0m\u001b[0m\n\u001b[0m\u001b[1;32m      8\u001b[0m     \u001b[0mr\u001b[0m \u001b[0;34m=\u001b[0m \u001b[0mres\u001b[0m\u001b[0;34m[\u001b[0m\u001b[0;36m0\u001b[0m\u001b[0;34m]\u001b[0m\u001b[0;34m\u001b[0m\u001b[0;34m\u001b[0m\u001b[0m\n\u001b[1;32m      9\u001b[0m     \u001b[0;32mreturn\u001b[0m \u001b[0mpd\u001b[0m\u001b[0;34m.\u001b[0m\u001b[0mSeries\u001b[0m\u001b[0;34m(\u001b[0m\u001b[0mr\u001b[0m\u001b[0;34m,\u001b[0m \u001b[0mindex\u001b[0m\u001b[0;34m=\u001b[0m\u001b[0mlist\u001b[0m\u001b[0;34m(\u001b[0m\u001b[0mr\u001b[0m\u001b[0;34m.\u001b[0m\u001b[0mkeys\u001b[0m\u001b[0;34m(\u001b[0m\u001b[0;34m)\u001b[0m\u001b[0;34m)\u001b[0m\u001b[0;34m)\u001b[0m\u001b[0;34m\u001b[0m\u001b[0;34m\u001b[0m\u001b[0m\n",
      "\u001b[0;31mTypeError\u001b[0m: 'list' object is not callable"
     ]
    }
   ],
   "source": [
    "# %%time\n",
    "df = pd.DataFrame(data=sa_names, columns=[\"sim\"])\n",
    "ddf = dd.from_pandas(df, npartitions=n_workers)\n",
    "testres = calculate_features(df.loc[0])\n",
    "metadf = pd.DataFrame([testres])\n",
    "# feats = ddf.apply(calculate_features, axis=1, meta=metadf).compute(scheduler='processes')\n",
    "# feats.to_csv(sim_names + \"trainingdata.csv\")\n",
    "feats = pd.read_csv(sim_names + \"trainingdata.csv\", index_col=0)"
   ]
  },
  {
   "cell_type": "code",
   "execution_count": null,
   "metadata": {},
   "outputs": [],
   "source": [
    "# # %%time\n",
    "# # hmm = pd.DataFrame(features(rebound.SimulationArchive(sim_names + sa_names[0])[0], features_args)[0])\n",
    "# # for i in range(1,10):\n",
    "# #     hmm = hmm.append(pd.DataFrame(ff.features(rebound.SimulationArchive(sim_names + sa_names[i])[0], features_args)[0]), ignore_index=True)\n",
    "# # hmm[\"sim\"] = sa_names[:10]"
   ]
  },
  {
   "cell_type": "markdown",
   "metadata": {},
   "source": [
    "# Are systems truly stable?"
   ]
  },
  {
   "cell_type": "code",
   "execution_count": 80,
   "metadata": {},
   "outputs": [],
   "source": [
    "def system_stable(nsim):\n",
    "    sim = rebound.SimulationArchive(sim_names + sa_names[nsim])[0]\n",
    "    P1 = sim.particles[1].P\n",
    "    try:\n",
    "        sim.integrate(1e6 * P1, exact_finish_time=0)\n",
    "        return True\n",
    "    except:\n",
    "        return False"
   ]
  },
  {
   "cell_type": "code",
   "execution_count": 81,
   "metadata": {},
   "outputs": [
    {
     "name": "stderr",
     "output_type": "stream",
     "text": [
      "/storage/home/cjg66/miniconda3/lib/python3.7/site-packages/rebound/simulationarchive.py:132: RuntimeWarning: You have to reset function pointers after creating a reb_simulation struct with a binary file.\n",
      "  warnings.warn(message, RuntimeWarning)\n"
     ]
    },
    {
     "name": "stdout",
     "output_type": "stream",
     "text": [
      "CPU times: user 15.4 s, sys: 10 ms, total: 15.4 s\n",
      "Wall time: 15.3 s\n"
     ]
    },
    {
     "data": {
      "text/plain": [
       "True"
      ]
     },
     "execution_count": 81,
     "metadata": {},
     "output_type": "execute_result"
    }
   ],
   "source": [
    "# %%time\n",
    "# system_stable(1)"
   ]
  },
  {
   "cell_type": "code",
   "execution_count": 82,
   "metadata": {},
   "outputs": [
    {
     "name": "stdout",
     "output_type": "stream",
     "text": [
      "CPU times: user 6.93 s, sys: 1.49 s, total: 8.43 s\n",
      "Wall time: 24min 16s\n"
     ]
    }
   ],
   "source": [
    "# %%time\n",
    "# pool = Pool(processes=n_workers)\n",
    "# nsim_list = np.arange(0, n)\n",
    "# res = pool.map(system_stable, nsim_list)\n",
    "# df = pd.DataFrame(data=sa_names, columns=[\"sim\"])\n",
    "# df[\"stability\"] = res\n",
    "# df.to_csv(\"sim_names + \"labels.csv\")"
   ]
  },
  {
   "cell_type": "code",
   "execution_count": 67,
   "metadata": {},
   "outputs": [],
   "source": [
    "# stab = np.array(np.ones(n), dtype=bool)\n",
    "# for i in range(n):\n",
    "#     try:\n",
    "#         stab[i] = pd.read_csv(sim_names + \"sims/\" + sa_names[i] + \"_stab.csv\", index_col=0)[\"stability\"][0]\n",
    "#     except:\n",
    "#         continue\n",
    "# df = pd.DataFrame(data=sa_names, columns=[\"sim\"])\n",
    "# df[\"Stable\"] = stab\n",
    "# df.to_csv(sim_names + \"labels.csv\")\n",
    "stab = pd.read_csv(sim_names + \"labels.csv\", index_col=0)\n",
    "# stab"
   ]
  },
  {
   "cell_type": "markdown",
   "metadata": {},
   "source": [
    "# Training models!"
   ]
  },
  {
   "cell_type": "markdown",
   "metadata": {},
   "source": [
    "## MEGNO"
   ]
  },
  {
   "cell_type": "code",
   "execution_count": 81,
   "metadata": {},
   "outputs": [],
   "source": [
    "# datapath = '../Dan_research/spock/training_data/'\n",
    "# dset = 'resonant/'\n",
    "# Norbits = 1e4\n",
    "# Nout = 80\n",
    "featureargs = (Norbits, Nout) # params to pass feature function\n",
    "# featurefolder = 'additional_featuresNorbits{0:.1f}Nout{1}trio/'.format(Norbits, Nout)\n",
    "# trainingdatafolder = datapath+dset+featurefolder\n",
    "datapath = sim_names\n",
    "featurefolder = sim_names\n",
    "trainingdatafolder = sim_names"
   ]
  },
  {
   "cell_type": "code",
   "execution_count": 40,
   "metadata": {},
   "outputs": [],
   "source": [
    "space ={\n",
    "        'max_depth': hp.randint('x_max_depth',  20),\n",
    "        'min_child_weight': hp.quniform ('x_min_child', 1, 10, 1),\n",
    "        'subsample': hp.uniform ('x_subsample', 0.8, 1),\n",
    "        'scale_pos_weight': hp.uniform(\"x_pos_weight\", 1, 50),\n",
    "        \"learning_rate\":hp.uniform(\"x_learning_rate\",0.01,0.2),\n",
    "        'colsample_bytree': hp.uniform ('x_tree_colsample', 0.5,1),\n",
    "}\n",
    "\n",
    "def objective(params):\n",
    "    clf = XGBClassifier(n_estimators = 100,\n",
    "                            max_depth = params['max_depth'], \n",
    "                            min_child_weight = params['min_child_weight'],\n",
    "                            subsample = params['subsample'],\n",
    "                            colsample_bytree = params['colsample_bytree'],\n",
    "                            learning_rate = params['learning_rate'], seed = 0)\n",
    "    \n",
    "    score = xgb.cv(clf.get_xgb_params(), dtrain, nfold = 5, metrics = \"auc\", early_stopping_rounds=10)\n",
    "    avg_score =  np.mean(score[\"test-auc-mean\"])\n",
    "    error = np.mean(score[\"test-auc-std\"])\n",
    "    \n",
    "    print(\"SCORE:\", avg_score, \"ERROR\", error)#, \"HOLDOUT SCORE\", test_score)\n",
    "    return{'loss':1-avg_score, 'status': STATUS_OK, \"cv_score\":avg_score , \"cv_error\":error}"
   ]
  },
  {
   "cell_type": "code",
   "execution_count": 50,
   "metadata": {},
   "outputs": [],
   "source": [
    "features = ['MEGNO']\n",
    "\n",
    "trainX, trainY, testX, testY = train_test_split(trainingdatafolder, features, filter=False)\n",
    "\n",
    "dtrain = xgb.DMatrix(trainX, trainY)\n",
    "dtest = xgb.DMatrix(testX, testY)"
   ]
  },
  {
   "cell_type": "code",
   "execution_count": 51,
   "metadata": {},
   "outputs": [
    {
     "name": "stdout",
     "output_type": "stream",
     "text": [
      "SCORE:                                                \n",
      "0.88824576                                            \n",
      "ERROR                                                 \n",
      "0.02383992815223841                                   \n",
      "SCORE:                                                \n",
      "0.88539166                                                              \n",
      "ERROR                                                                   \n",
      "0.02321627987623114                                                     \n",
      "SCORE:                                                                  \n",
      "0.87202202                                                              \n",
      "ERROR                                                                   \n",
      "0.026597761760685568                                                    \n",
      "SCORE:                                                                  \n",
      "0.8865834400000001                                                      \n",
      "ERROR                                                                   \n",
      "0.025793955788869876                                                    \n",
      "SCORE:                                                                  \n",
      "0.8840826999999999                                                      \n",
      "ERROR                                                                   \n",
      "0.02618025101661655                                                     \n",
      "SCORE:                                                                  \n",
      "0.8862435399999999                                                      \n",
      "ERROR                                                                   \n",
      "0.023128680379504798                                                    \n",
      "SCORE:                                                                  \n",
      "0.8856513399999999                                                      \n",
      "ERROR                                                                   \n",
      "0.026058213901558637                                                    \n",
      "SCORE:                                                                  \n",
      "0.5                                                                     \n",
      "ERROR                                                                   \n",
      "0.0                                                                     \n",
      "SCORE:                                                                  \n",
      "0.8882566000000001                                                      \n",
      "ERROR                                                                   \n",
      "0.02364346383593734                                                     \n",
      "SCORE:                                                                  \n",
      "0.8834615800000002                                                               \n",
      "ERROR                                                                            \n",
      "0.023553880681968686                                                             \n",
      "SCORE:                                                                            \n",
      "0.88277468                                                                        \n",
      "ERROR                                                                             \n",
      "0.023290329527950824                                                              \n",
      "SCORE:                                                                            \n",
      "0.8748236799999999                                                                \n",
      "ERROR                                                                             \n",
      "0.027436885232011383                                                              \n",
      "SCORE:                                                                            \n",
      "0.88371516                                                                        \n",
      "ERROR                                                                             \n",
      "0.02536406406219689                                                               \n",
      "SCORE:                                                                            \n",
      "0.88363694                                                                        \n",
      "ERROR                                                                             \n",
      "0.02544726662273495                                                               \n",
      "SCORE:                                                                            \n",
      "0.88417992                                                                        \n",
      "ERROR                                                                             \n",
      "0.024184976113806083                                                              \n",
      "SCORE:                                                                            \n",
      "0.8853200400000001                                                                \n",
      "ERROR                                                                             \n",
      "0.024920020024029564                                                              \n",
      "SCORE:                                                                            \n",
      "0.8891906                                                                         \n",
      "ERROR                                                                             \n",
      "0.022472300659138984                                                              \n",
      "SCORE:                                                                            \n",
      "0.8830184400000001                                                                \n",
      "ERROR                                                                             \n",
      "0.02313227430765546                                                               \n",
      "SCORE:                                                                            \n",
      "0.88345046                                                                        \n",
      "ERROR                                                                             \n",
      "0.026182064449403585                                                              \n",
      "SCORE:                                                                            \n",
      "0.8880779999999999                                                                \n",
      "ERROR                                                                             \n",
      "0.022321233360014386                                                              \n",
      "SCORE:                                                                            \n",
      "0.8881979                                                                         \n",
      "ERROR                                                                             \n",
      "0.022085705359754747                                                              \n",
      "SCORE:                                                                            \n",
      "0.88695034                                                                        \n",
      "ERROR                                                                             \n",
      "0.025177843945050238                                                              \n",
      "SCORE:                                                                            \n",
      "0.8898357399999999                                                                \n",
      "ERROR                                                                             \n",
      "0.023295605668952536                                                              \n",
      "SCORE:                                                                            \n",
      "0.8917614199999999                                                                \n",
      "ERROR                                                                             \n",
      "0.02391726248058393                                                               \n",
      "SCORE:                                                                            \n",
      "0.8918620200000001                                                                \n",
      "ERROR                                                                             \n",
      "0.021850775224270334                                                              \n",
      "SCORE:                                                                            \n",
      "0.8912487800000001                                                                \n",
      "ERROR                                                                             \n",
      "0.02365890009550776                                                               \n"
     ]
    },
    {
     "name": "stdout",
     "output_type": "stream",
     "text": [
      "SCORE:                                                                            \n",
      "0.8935677400000002                                                                \n",
      "ERROR                                                                             \n",
      "0.022709611980989745                                                              \n",
      "SCORE:                                                                            \n",
      "0.8903843800000001                                                                \n",
      "ERROR                                                                             \n",
      "0.02582086590768079                                                               \n",
      "SCORE:                                                                            \n",
      "0.8903333799999998                                                                \n",
      "ERROR                                                                             \n",
      "0.021502534641885937                                                              \n",
      "SCORE:                                                                            \n",
      "0.89138352                                                                        \n",
      "ERROR                                                                             \n",
      "0.0198483432518073                                                                \n",
      "SCORE:                                                                            \n",
      "0.88887914                                                                        \n",
      "ERROR                                                                             \n",
      "0.024933011786146674                                                              \n",
      "SCORE:                                                                            \n",
      "0.8899806800000002                                                                \n",
      "ERROR                                                                             \n",
      "0.027764167509407467                                                              \n",
      "SCORE:                                                                            \n",
      "0.88888236                                                                        \n",
      "ERROR                                                                             \n",
      "0.02073195136751783                                                               \n",
      "SCORE:                                                                            \n",
      "0.8854851400000001                                                                \n",
      "ERROR                                                                             \n",
      "0.024712678046615612                                                              \n",
      "SCORE:                                                                            \n",
      "0.88548744                                                                        \n",
      "ERROR                                                                             \n",
      "0.02638280685578519                                                               \n",
      "SCORE:                                                                            \n",
      "0.8888581199999999                                                                \n",
      "ERROR                                                                             \n",
      "0.02160065263245866                                                               \n",
      "SCORE:                                                                            \n",
      "0.88527424                                                                        \n",
      "ERROR                                                                             \n",
      "0.02579467528944588                                                               \n",
      "SCORE:                                                                            \n",
      "0.8852573199999998                                                                \n",
      "ERROR                                                                             \n",
      "0.02257511936923146                                                               \n",
      "SCORE:                                                                            \n",
      "0.5                                                                               \n",
      "ERROR                                                                             \n",
      "0.0                                                                               \n",
      "SCORE:                                                                            \n",
      "0.8886289999999999                                                                \n",
      "ERROR                                                                             \n",
      "0.026887665310842745                                                              \n",
      "SCORE:                                                                            \n",
      "0.88888926                                                                        \n",
      "ERROR                                                                             \n",
      "0.024252904613097693                                                              \n",
      "SCORE:                                                                            \n",
      "0.8862549                                                                         \n",
      "ERROR                                                                             \n",
      "0.02673701721924431                                                               \n",
      "SCORE:                                                                            \n",
      "0.8760137799999999                                                                \n",
      "ERROR                                                                             \n",
      "0.02823858617673706                                                               \n",
      "SCORE:                                                                            \n",
      "0.8884875799999999                                                                \n",
      "ERROR                                                                             \n",
      "0.020282240478268748                                                              \n",
      "SCORE:                                                                            \n",
      "0.8875368800000001                                                                \n",
      "ERROR                                                                             \n",
      "0.024872797785137297                                                              \n",
      "SCORE:                                                                            \n",
      "0.8901913200000001                                                                \n",
      "ERROR                                                                             \n",
      "0.022926731327067698                                                              \n",
      "SCORE:                                                                            \n",
      "0.89079178                                                                        \n",
      "ERROR                                                                             \n",
      "0.020296311758128953                                                              \n",
      "SCORE:                                                                            \n",
      "0.88693288                                                                        \n",
      "ERROR                                                                             \n",
      "0.024029004390841248                                                              \n",
      "SCORE:                                                                            \n",
      "0.8848640600000002                                                                \n",
      "ERROR                                                                             \n",
      "0.026821226099756446                                                              \n",
      "SCORE:                                                                            \n",
      "0.89015772                                                                        \n",
      "ERROR                                                                             \n",
      "0.024206155630564545                                                              \n",
      "100%|██████████| 50/50 [00:04<00:00, 12.05trial/s, best loss: 0.10643225999999983]\n",
      "Optimization Time: %f seconds 4.127461194992065\n",
      "CPU times: user 3.54 s, sys: 220 ms, total: 3.76 s\n",
      "Wall time: 4.13 s\n"
     ]
    }
   ],
   "source": [
    "%%time\n",
    "trials = Trials()\n",
    "import time\n",
    "start = time.time()\n",
    "best = fmin(fn=objective, space = space, algo = tpe.suggest, max_evals = 50, trials = trials, rstate=np.random.RandomState(seed=0))\n",
    "end = time.time()\n",
    "print(\"Optimization Time: %f seconds\", (end  -start))"
   ]
  },
  {
   "cell_type": "code",
   "execution_count": 52,
   "metadata": {},
   "outputs": [
    {
     "data": {
      "text/plain": [
       "{'x_learning_rate': 0.09846322775310665,\n",
       " 'x_max_depth': 5,\n",
       " 'x_min_child': 2.0,\n",
       " 'x_pos_weight': 7.8575876782609715,\n",
       " 'x_subsample': 0.9806958528688635,\n",
       " 'x_tree_colsample': 0.8703651258790678}"
      ]
     },
     "execution_count": 52,
     "metadata": {},
     "output_type": "execute_result"
    }
   ],
   "source": [
    "best"
   ]
  },
  {
   "cell_type": "code",
   "execution_count": 53,
   "metadata": {},
   "outputs": [
    {
     "name": "stdout",
     "output_type": "stream",
     "text": [
      "[0]\ttrain-auc:0.894697+0.00566713\ttest-auc:0.883202+0.0278597\n",
      "[1]\ttrain-auc:0.895558+0.00508818\ttest-auc:0.883249+0.0278737\n",
      "[2]\ttrain-auc:0.89613+0.00495532\ttest-auc:0.883295+0.0279026\n",
      "[3]\ttrain-auc:0.896445+0.00545399\ttest-auc:0.883264+0.027883\n",
      "[4]\ttrain-auc:0.896455+0.00544859\ttest-auc:0.883265+0.027884\n",
      "[5]\ttrain-auc:0.897766+0.00675998\ttest-auc:0.884588+0.0252732\n",
      "[6]\ttrain-auc:0.89823+0.00641073\ttest-auc:0.886748+0.0257494\n",
      "[7]\ttrain-auc:0.898997+0.00572086\ttest-auc:0.889596+0.0275126\n",
      "[8]\ttrain-auc:0.899028+0.00570791\ttest-auc:0.889596+0.0275126\n",
      "[9]\ttrain-auc:0.900431+0.00519606\ttest-auc:0.891066+0.0284377\n"
     ]
    },
    {
     "data": {
      "text/plain": [
       "XGBClassifier(base_score=0.5, booster='gbtree', colsample_bylevel=1,\n",
       "              colsample_bynode=1, colsample_bytree=0.8703651258790678, gamma=0,\n",
       "              learning_rate=0.09846322775310665, max_delta_step=0, max_depth=5,\n",
       "              min_child_weight=2.0, missing=None, n_estimators=100, n_jobs=1,\n",
       "              nthread=None, objective='binary:logistic', random_state=0,\n",
       "              reg_alpha=0, reg_lambda=1, scale_pos_weight=7.8575876782609715,\n",
       "              seed=None, silent=None, subsample=0.9806958528688635,\n",
       "              verbosity=1)"
      ]
     },
     "execution_count": 53,
     "metadata": {},
     "output_type": "execute_result"
    }
   ],
   "source": [
    "model = XGBClassifier(n_estimators=100, scale_pos_weight=best[\"x_pos_weight\"],\n",
    "                         learning_rate = best[\"x_learning_rate\"], \n",
    "                         max_depth = int(best[\"x_max_depth\"]), \n",
    "                         min_child_weight = best[\"x_min_child\"],\n",
    "                         subsample = best[\"x_subsample\"], \n",
    "                         colsample_bytree = best[\"x_tree_colsample\"])\n",
    "\n",
    "score = xgb.cv(model.get_xgb_params(), dtrain, nfold = 5, metrics = \"auc\", verbose_eval=True, num_boost_round=10)\n",
    "model.fit(trainX, trainY)"
   ]
  },
  {
   "cell_type": "code",
   "execution_count": 60,
   "metadata": {},
   "outputs": [],
   "source": [
    "model.save_model(trainingdatafolder+'/models/megno.bin')\n",
    "\n",
    "dill.dump([model, features, featureargs, featurefolder], open(trainingdatafolder + \"/models/megno.pkl\", \"wb\"))"
   ]
  },
  {
   "cell_type": "code",
   "execution_count": 68,
   "metadata": {},
   "outputs": [
    {
     "data": {
      "text/plain": [
       "Text(0.5, 1.0, 'ROC curve (AUC = 0.887)')"
      ]
     },
     "execution_count": 68,
     "metadata": {},
     "output_type": "execute_result"
    },
    {
     "data": {
      "image/png": "[encoded data removed]",
      "text/plain": [
       "<Figure size 432x288 with 1 Axes>"
      ]
     },
     "metadata": {
      "needs_background": "light"
     },
     "output_type": "display_data"
    }
   ],
   "source": [
    "roc_auc, fpr, tpr, ROCthresholds = ROC_curve(trainingdatafolder, model, features)\n",
    "\n",
    "fig, ax = plt.subplots()\n",
    "ax.plot(fpr, tpr)\n",
    "ax.plot([0, 1], [0, 1], 'k--')\n",
    "ax.set_xlim([0.0, 1.0])\n",
    "ax.set_ylim([0.0, 1.0])\n",
    "ax.set_xlabel('False Positive Rate')\n",
    "ax.set_ylabel('True Positive Rate')\n",
    "ax.set_title('ROC curve (AUC = {0:.3f})'.format(roc_auc))"
   ]
  },
  {
   "cell_type": "code",
   "execution_count": 70,
   "metadata": {},
   "outputs": [],
   "source": [
    "model, features, featureargs, featurefolder = dill.load(open(trainingdatafolder + '/models/megno.pkl', 'rb'))"
   ]
  },
  {
   "cell_type": "code",
   "execution_count": 71,
   "metadata": {},
   "outputs": [
    {
     "name": "stdout",
     "output_type": "stream",
     "text": [
      "Threshold 1.99420964717865, TPR = 0.0, FPR = 0.0\n",
      "Threshold 0.9792628884315491, TPR = 0.5346534653465347, FPR = 0.09615384615384616\n",
      "Threshold 0.9719792008399963, TPR = 0.8316831683168316, FPR = 0.19230769230769232\n",
      "Threshold 0.35508063435554504, TPR = 0.9702970297029703, FPR = 0.3557692307692308\n"
     ]
    }
   ],
   "source": [
    "for i in range(0,len(tpr), 15):\n",
    "    print(\"Threshold {0}, TPR = {1}, FPR = {2}\".format(ROCthresholds[i], tpr[i], fpr[i]))"
   ]
  },
  {
   "cell_type": "markdown",
   "metadata": {},
   "source": [
    "## AMD and Hill soon"
   ]
  },
  {
   "cell_type": "code",
   "execution_count": 75,
   "metadata": {},
   "outputs": [],
   "source": [
    "features = ['AMDtriofracnear', 'AMDtriofracfar']\n",
    "features = ['betanear', 'betafar']"
   ]
  },
  {
   "cell_type": "markdown",
   "metadata": {},
   "source": [
    "## Full"
   ]
  },
  {
   "cell_type": "code",
   "execution_count": 76,
   "metadata": {},
   "outputs": [],
   "source": [
    "space ={\n",
    "        'max_depth': hp.randint('x_max_depth',  20),\n",
    "        'min_child_weight': hp.quniform ('x_min_child', 1, 10, 1),\n",
    "        'subsample': hp.uniform ('x_subsample', 0.8, 1),\n",
    "        'scale_pos_weight': hp.uniform(\"x_pos_weight\", 1, 50),\n",
    "        \"learning_rate\":hp.uniform(\"x_learning_rate\",0.01,0.2),\n",
    "        'colsample_bytree': hp.uniform ('x_tree_colsample', 0.5,1),\n",
    "}\n",
    "\n",
    "def objective(params):\n",
    "    clf = XGBClassifier(n_estimators = 100,\n",
    "                            max_depth = params['max_depth'], \n",
    "                            min_child_weight = params['min_child_weight'],\n",
    "                            subsample = params['subsample'],\n",
    "                            colsample_bytree = params['colsample_bytree'],\n",
    "                            learning_rate = params['learning_rate'], seed = 0)\n",
    "    \n",
    "    score = xgb.cv(clf.get_xgb_params(), dtrain, nfold = 5, metrics = \"auc\", early_stopping_rounds=10)\n",
    "    avg_score =  np.mean(score[\"test-auc-mean\"])\n",
    "    error = np.mean(score[\"test-auc-std\"])\n",
    "    \n",
    "    print(\"SCORE:\", avg_score, \"ERROR\", error)#, \"HOLDOUT SCORE\", test_score)\n",
    "    return{'loss':1-avg_score, 'status': STATUS_OK, \"cv_score\":avg_score , \"cv_error\":error}"
   ]
  },
  {
   "cell_type": "code",
   "execution_count": 77,
   "metadata": {},
   "outputs": [
    {
     "name": "stderr",
     "output_type": "stream",
     "text": [
      "/storage/home/cjg66/miniconda3/lib/python3.7/site-packages/xgboost/core.py:587: FutureWarning: Series.base is deprecated and will be removed in a future version\n",
      "  if getattr(data, 'base', None) is not None and \\\n",
      "/storage/home/cjg66/miniconda3/lib/python3.7/site-packages/xgboost/core.py:588: FutureWarning: Series.base is deprecated and will be removed in a future version\n",
      "  data.base is not None and isinstance(data, np.ndarray) \\\n"
     ]
    }
   ],
   "source": [
    "near = ['EMcrossnear', 'EMfracstdnear', 'EPstdnear', 'MMRstrengthnear']\n",
    "far = ['EMcrossfar', 'EMfracstdfar', 'EPstdfar', 'MMRstrengthfar']\n",
    "megno = ['MEGNO', 'MEGNOstd']\n",
    "\n",
    "features = near + far + megno\n",
    "\n",
    "trainX, trainY, testX, testY = train_test_split(trainingdatafolder, features, filter=False)\n",
    "\n",
    "dtrain = xgb.DMatrix(trainX, trainY)\n",
    "dtest = xgb.DMatrix(testX, testY)"
   ]
  },
  {
   "cell_type": "code",
   "execution_count": 78,
   "metadata": {},
   "outputs": [
    {
     "name": "stdout",
     "output_type": "stream",
     "text": [
      "SCORE:                                                \n",
      "0.95764378                                            \n",
      "ERROR                                                 \n",
      "0.013074077202918064                                  \n",
      "SCORE:                                                                            \n",
      "0.9578627599999999                                                                \n",
      "ERROR                                                                             \n",
      "0.014190473407599925                                                              \n",
      "SCORE:                                                                            \n",
      "0.88268038                                                                        \n",
      "ERROR                                                                             \n",
      "0.028295516009821713                                                              \n",
      "SCORE:                                                                            \n",
      "0.9558031399999999                                                                \n",
      "ERROR                                                                             \n",
      "0.016027494191926055                                                              \n",
      "SCORE:                                                                            \n",
      "0.9561679399999999                                                                \n",
      "ERROR                                                                             \n",
      "0.01751706315932839                                                               \n",
      "SCORE:                                                                            \n",
      "0.9555947400000001                                                                \n",
      "ERROR                                                                             \n",
      "0.014510762606767341                                                              \n",
      "SCORE:                                                                            \n",
      "0.9555322399999999                                                                \n",
      "ERROR                                                                             \n",
      "0.010997164754683746                                                              \n",
      "SCORE:                                                                            \n",
      "0.5                                                                               \n",
      "ERROR                                                                             \n",
      "0.0                                                                               \n",
      "SCORE:                                                                            \n",
      "0.9555889399999999                                                                \n",
      "ERROR                                                                             \n",
      "0.013154391582607875                                                              \n",
      "SCORE:                                                                            \n",
      "0.95709706                                                                        \n",
      "ERROR                                                                             \n",
      "0.014756500202591907                                                              \n",
      "SCORE:                                                                            \n",
      "0.9543503799999999                                                                 \n",
      "ERROR                                                                              \n",
      "0.015734669541606097                                                               \n",
      "SCORE:                                                                             \n",
      "0.8843704000000001                                                                 \n",
      "ERROR                                                                              \n",
      "0.024879489602304468                                                               \n",
      "SCORE:                                                                             \n",
      "0.9571474200000001                                                                 \n",
      "ERROR                                                                              \n",
      "0.013537868016089746                                                               \n",
      "SCORE:                                                                             \n",
      "0.9559143200000001                                                                 \n",
      "ERROR                                                                              \n",
      "0.015805282677864733                                                               \n",
      "SCORE:                                                                             \n",
      "0.95895566                                                                         \n",
      "ERROR                                                                              \n",
      "0.009700692893703747                                                               \n",
      "SCORE:                                                                             \n",
      "0.9556051799999998                                                                \n",
      "ERROR                                                                             \n",
      "0.018316000177540013                                                              \n",
      "SCORE:                                                                            \n",
      "0.9590970799999999                                                                \n",
      "ERROR                                                                             \n",
      "0.012018376820894608                                                              \n",
      "SCORE:                                                                             \n",
      "0.95930836                                                                         \n",
      "ERROR                                                                              \n",
      "0.01029821938774027                                                                \n",
      "SCORE:                                                                             \n",
      "0.9541778799999999                                                                \n",
      "ERROR                                                                             \n",
      "0.015898921386998787                                                              \n",
      "SCORE:                                                                            \n",
      "0.9499709199999999                                                                \n",
      "ERROR                                                                             \n",
      "0.018882078478039764                                                              \n",
      "SCORE:                                                                            \n",
      "0.9571162200000002                                                                \n",
      "ERROR                                                                             \n",
      "0.011909914760540544                                                              \n",
      "SCORE:                                                                            \n",
      "0.95833566                                                                        \n",
      "ERROR                                                                             \n",
      "0.011263094072730729                                                              \n",
      "SCORE:                                                                            \n",
      "0.9588241799999999                                                                \n",
      "ERROR                                                                             \n",
      "0.00919717906933618                                                               \n",
      "SCORE:                                                                            \n",
      "0.95803086                                                                        \n",
      "ERROR                                                                             \n",
      "0.010343374348553033                                                              \n",
      "SCORE:                                                                            \n",
      "0.9603331200000002                                                                \n",
      "ERROR                                                                             \n"
     ]
    },
    {
     "name": "stdout",
     "output_type": "stream",
     "text": [
      "0.011754771402779987                                                              \n",
      "SCORE:                                                                            \n",
      "0.9607342800000002                                                                \n",
      "ERROR                                                                             \n",
      "0.010281673011562378                                                              \n",
      "SCORE:                                                                            \n",
      "0.9590548                                                                         \n",
      "ERROR                                                                             \n",
      "0.011990612737691388                                                              \n",
      "SCORE:                                                                            \n",
      "0.9590661                                                                         \n",
      "ERROR                                                                             \n",
      "0.008973529605579882                                                              \n",
      "SCORE:                                                                            \n",
      "0.9573927400000001                                                                \n",
      "ERROR                                                                             \n",
      "0.009934494417225825                                                              \n",
      "SCORE:                                                                            \n",
      "0.95721184                                                                        \n",
      "ERROR                                                                             \n",
      "0.011886995310465998                                                              \n",
      "SCORE:                                                                            \n",
      "0.95886894                                                                        \n",
      "ERROR                                                                             \n",
      "0.01181688086769456                                                               \n",
      "SCORE:                                                                            \n",
      "0.9568258000000001                                                                \n",
      "ERROR                                                                             \n",
      "0.011483667610274641                                                              \n",
      "SCORE:                                                                            \n",
      "0.95525244                                                                        \n",
      "ERROR                                                                             \n",
      "0.011708841978648774                                                              \n",
      "SCORE:                                                                            \n",
      "0.96029368                                                                        \n",
      "ERROR                                                                             \n",
      "0.012359065557646279                                                              \n",
      "SCORE:                                                                            \n",
      "0.9558930799999998                                                                \n",
      "ERROR                                                                             \n",
      "0.016326829145086555                                                              \n",
      "SCORE:                                                                            \n",
      "0.9535337800000001                                                                \n",
      "ERROR                                                                             \n",
      "0.01769121943910145                                                               \n",
      "SCORE:                                                                            \n",
      "0.9586036800000001                                                                \n",
      "ERROR                                                                             \n",
      "0.010192285844420793                                                              \n",
      "SCORE:                                                                            \n",
      "0.5                                                                               \n",
      "ERROR                                                                             \n",
      "0.0                                                                               \n",
      "SCORE:                                                                            \n",
      "0.94695738                                                                        \n",
      "ERROR                                                                             \n",
      "0.02008571072395235                                                               \n",
      "SCORE:                                                                            \n",
      "0.9591324                                                                         \n",
      "ERROR                                                                             \n",
      "0.010766625126246022                                                              \n",
      "SCORE:                                                                            \n",
      "0.9562559800000001                                                                \n",
      "ERROR                                                                             \n",
      "0.016144592371478413                                                              \n",
      "SCORE:                                                                            \n",
      "0.9591274000000001                                                                \n",
      "ERROR                                                                             \n",
      "0.01602078984537635                                                               \n",
      "SCORE:                                                                            \n",
      "0.92420014                                                                        \n",
      "ERROR                                                                             \n",
      "0.020823267179079525                                                              \n",
      "SCORE:                                                                            \n",
      "0.9570474399999999                                                                \n",
      "ERROR                                                                             \n",
      "0.011787434903973895                                                              \n",
      "SCORE:                                                                            \n",
      "0.95761664                                                                        \n",
      "ERROR                                                                             \n",
      "0.01269399069033699                                                               \n",
      "SCORE:                                                                            \n",
      "0.9557952399999999                                                                \n",
      "ERROR                                                                             \n",
      "0.012217055103076075                                                              \n",
      "SCORE:                                                                            \n",
      "0.95750606                                                                        \n",
      "ERROR                                                                             \n",
      "0.013162112218567102                                                              \n",
      "SCORE:                                                                            \n",
      "0.9547646999999999                                                                \n",
      "ERROR                                                                             \n",
      "0.014668701489115152                                                              \n",
      "SCORE:                                                                            \n",
      "0.95537052                                                                        \n",
      "ERROR                                                                             \n",
      "0.0158169963628319                                                                \n",
      "SCORE:                                                                            \n"
     ]
    },
    {
     "name": "stdout",
     "output_type": "stream",
     "text": [
      "0.9572274000000001                                                                \n",
      "ERROR                                                                             \n",
      "0.01259636875550579                                                               \n",
      "100%|██████████| 50/50 [00:05<00:00,  8.64trial/s, best loss: 0.03926571999999984]\n",
      "Optimization Time: %f seconds 5.429235219955444\n",
      "CPU times: user 4.75 s, sys: 178 ms, total: 4.92 s\n",
      "Wall time: 5.43 s\n"
     ]
    }
   ],
   "source": [
    "%%time\n",
    "trials = Trials()\n",
    "import time\n",
    "start = time.time()\n",
    "best = fmin(fn=objective, space = space, algo = tpe.suggest, max_evals = 50, trials = trials, rstate=np.random.RandomState(seed=0))\n",
    "end = time.time()\n",
    "print(\"Optimization Time: %f seconds\", (end  -start))"
   ]
  },
  {
   "cell_type": "code",
   "execution_count": 79,
   "metadata": {},
   "outputs": [
    {
     "data": {
      "text/plain": [
       "{'x_learning_rate': 0.08785653551559526,\n",
       " 'x_max_depth': 9,\n",
       " 'x_min_child': 8.0,\n",
       " 'x_pos_weight': 18.823981360786952,\n",
       " 'x_subsample': 0.9270438687013021,\n",
       " 'x_tree_colsample': 0.9356965449558142}"
      ]
     },
     "execution_count": 79,
     "metadata": {},
     "output_type": "execute_result"
    }
   ],
   "source": [
    "best"
   ]
  },
  {
   "cell_type": "code",
   "execution_count": 80,
   "metadata": {},
   "outputs": [
    {
     "name": "stdout",
     "output_type": "stream",
     "text": [
      "[0]\ttrain-auc:0.900794+0.0102875\ttest-auc:0.895489+0.0252852\n",
      "[1]\ttrain-auc:0.939007+0.0124735\ttest-auc:0.92339+0.0134939\n",
      "[2]\ttrain-auc:0.946011+0.00808784\ttest-auc:0.926886+0.0154876\n",
      "[3]\ttrain-auc:0.961083+0.0121413\ttest-auc:0.93335+0.0146152\n",
      "[4]\ttrain-auc:0.963378+0.0122923\ttest-auc:0.934476+0.0151152\n",
      "[5]\ttrain-auc:0.967895+0.0119057\ttest-auc:0.936296+0.0147491\n",
      "[6]\ttrain-auc:0.971813+0.01075\ttest-auc:0.945011+0.0183396\n",
      "[7]\ttrain-auc:0.972187+0.0109602\ttest-auc:0.945283+0.0189777\n",
      "[8]\ttrain-auc:0.973094+0.00924573\ttest-auc:0.946087+0.019398\n",
      "[9]\ttrain-auc:0.973516+0.00924284\ttest-auc:0.945808+0.0192582\n"
     ]
    },
    {
     "data": {
      "text/plain": [
       "XGBClassifier(base_score=0.5, booster='gbtree', colsample_bylevel=1,\n",
       "              colsample_bynode=1, colsample_bytree=0.9356965449558142, gamma=0,\n",
       "              learning_rate=0.08785653551559526, max_delta_step=0, max_depth=9,\n",
       "              min_child_weight=8.0, missing=None, n_estimators=100, n_jobs=1,\n",
       "              nthread=None, objective='binary:logistic', random_state=0,\n",
       "              reg_alpha=0, reg_lambda=1, scale_pos_weight=18.823981360786952,\n",
       "              seed=None, silent=None, subsample=0.9270438687013021,\n",
       "              verbosity=1)"
      ]
     },
     "execution_count": 80,
     "metadata": {},
     "output_type": "execute_result"
    }
   ],
   "source": [
    "model = XGBClassifier(n_estimators=100, scale_pos_weight=best[\"x_pos_weight\"],\n",
    "                         learning_rate = best[\"x_learning_rate\"], \n",
    "                         max_depth = int(best[\"x_max_depth\"]), \n",
    "                         min_child_weight = best[\"x_min_child\"],\n",
    "                         subsample = best[\"x_subsample\"], \n",
    "                         colsample_bytree = best[\"x_tree_colsample\"])\n",
    "\n",
    "score = xgb.cv(model.get_xgb_params(), dtrain, nfold = 5, metrics = \"auc\", verbose_eval=True, num_boost_round=10)\n",
    "model.fit(trainX, trainY)"
   ]
  },
  {
   "cell_type": "code",
   "execution_count": 82,
   "metadata": {},
   "outputs": [],
   "source": [
    "model.save_model(datapath+'/models/spock.json')"
   ]
  },
  {
   "cell_type": "code",
   "execution_count": 84,
   "metadata": {},
   "outputs": [],
   "source": [
    "model = XGBClassifier()\n",
    "model.load_model(datapath+'/models/spock.json')"
   ]
  },
  {
   "cell_type": "code",
   "execution_count": 85,
   "metadata": {},
   "outputs": [
    {
     "data": {
      "text/plain": [
       "Text(0.5, 1.0, 'ROC curve (AUC = 0.957)')"
      ]
     },
     "execution_count": 85,
     "metadata": {},
     "output_type": "execute_result"
    },
    {
     "data": {
      "image/png": "[encoded data removed]",
      "text/plain": [
       "<Figure size 432x288 with 1 Axes>"
      ]
     },
     "metadata": {
      "needs_background": "light"
     },
     "output_type": "display_data"
    }
   ],
   "source": [
    "#model, features, featurefolder = dill.load(open(modelpath+filename+'.pkl', \"rb\"))\n",
    "#testingdatafolder = datapath+testing_dataset+'/'+featurefolder\n",
    "#roc_auc, fpr, tpr, ROCthresholds = ROC_curve(testingdatafolder, model, features, filtertimes=True)\n",
    "\n",
    "roc_auc, fpr, tpr, ROCthresholds = ROC_curve(trainingdatafolder, model, features)\n",
    "\n",
    "fig, ax = plt.subplots()\n",
    "ax.plot(fpr, tpr)\n",
    "ax.plot([0, 1], [0, 1], 'k--')\n",
    "ax.set_xlim([0.0, 1.0])\n",
    "ax.set_ylim([0.0, 1.0])\n",
    "ax.set_xlabel('False Positive Rate')\n",
    "ax.set_ylabel('True Positive Rate')\n",
    "ax.set_title('ROC curve (AUC = {0:.3f})'.format(roc_auc))"
   ]
  },
  {
   "cell_type": "code",
   "execution_count": 86,
   "metadata": {},
   "outputs": [
    {
     "data": {
      "text/plain": [
       "Text(0.5, 1.0, 'ROC curve (AUC = 0.957)')"
      ]
     },
     "execution_count": 86,
     "metadata": {},
     "output_type": "execute_result"
    },
    {
     "data": {
      "image/png": "[encoded data removed]",
      "text/plain": [
       "<Figure size 432x288 with 1 Axes>"
      ]
     },
     "metadata": {
      "needs_background": "light"
     },
     "output_type": "display_data"
    }
   ],
   "source": [
    "#model, features, featurefolder = dill.load(open(modelpath+filename+'.pkl', \"rb\"))\n",
    "#testingdatafolder = datapath+testing_dataset+'/'+featurefolder\n",
    "#roc_auc, fpr, tpr, ROCthresholds = ROC_curve(testingdatafolder, model, features, filtertimes=True)\n",
    "\n",
    "roc_auc, fpr, tpr, ROCthresholds = ROC_curve(trainingdatafolder, model, features)\n",
    "\n",
    "fig, ax = plt.subplots()\n",
    "ax.plot(fpr, tpr)\n",
    "ax.plot([0, 1], [0, 1], 'k--')\n",
    "ax.set_xlim([0.0, 1.0])\n",
    "ax.set_ylim([0.0, 1.0])\n",
    "ax.set_xlabel('False Positive Rate')\n",
    "ax.set_ylabel('True Positive Rate')\n",
    "ax.set_title('ROC curve (AUC = {0:.3f})'.format(roc_auc))"
   ]
  },
  {
   "cell_type": "code",
   "execution_count": 87,
   "metadata": {},
   "outputs": [
    {
     "name": "stdout",
     "output_type": "stream",
     "text": [
      "Threshold 1.9996434450149536, TPR = 0.0, FPR = 0.0\n",
      "Threshold 0.9844551086425781, TPR = 0.801980198019802, FPR = 0.057692307692307696\n",
      "Threshold 0.44192221760749817, TPR = 0.9405940594059405, FPR = 0.2692307692307692\n",
      "Threshold 0.0007439604960381985, TPR = 1.0, FPR = 0.8365384615384616\n"
     ]
    }
   ],
   "source": [
    "for i in range(0,len(tpr), 15):\n",
    "    print(\"Threshold {0}, TPR = {1}, FPR = {2}\".format(ROCthresholds[i], tpr[i], fpr[i]))"
   ]
  },
  {
   "cell_type": "code",
   "execution_count": 88,
   "metadata": {},
   "outputs": [
    {
     "data": {
      "image/png": "[encoded data removed]",
      "text/plain": [
       "<Figure size 864x576 with 1 Axes>"
      ]
     },
     "metadata": {
      "needs_background": "light"
     },
     "output_type": "display_data"
    }
   ],
   "source": [
    "# feature importances\n",
    "feat_imp = pd.Series(model.get_booster().get_fscore()).sort_values(ascending=False)\n",
    "ax = feat_imp.plot.barh(figsize=(12,8), fontsize=24)\n",
    "ax.set_xlabel('Feature Importance Score', fontsize=24)\n",
    "ax.invert_yaxis()\n",
    "plt.savefig('featureimportances.pdf', bbox_inches='tight')"
   ]
  },
  {
   "cell_type": "code",
   "execution_count": 89,
   "metadata": {},
   "outputs": [
    {
     "data": {
      "text/plain": [
       "(0, 24.200000000000003)"
      ]
     },
     "execution_count": 89,
     "metadata": {},
     "output_type": "execute_result"
    },
    {
     "data": {
      "image/png": "[encoded data removed]",
      "text/plain": [
       "<Figure size 432x288 with 2 Axes>"
      ]
     },
     "metadata": {
      "needs_background": "light"
     },
     "output_type": "display_data"
    }
   ],
   "source": [
    "# Histogram:\n",
    "bins = 50\n",
    "Stable, Unstable = stable_unstable_hist(trainingdatafolder, model, features)\n",
    "\n",
    "fig, ax1 = plt.subplots()\n",
    "n, bins, pathces = ax1.hist(Unstable, bins, alpha=0.5, label='No', color='blue', edgecolor = \"black\")\n",
    "#print(n)\n",
    "ax1.set_xlabel('Predicted Probability', fontsize=14)\n",
    "ax1.set_ylabel('Unstable',  fontsize=14, color='blue')\n",
    "for tl in ax1.get_yticklabels():\n",
    "    tl.set_color('blue')\n",
    "    \n",
    "\n",
    "\n",
    "ax2 = ax1.twinx()\n",
    "n, bins , patches = ax2.hist(Stable, bins, alpha=0.5, label='Yes',color='green', edgecolor = \"black\")\n",
    "#print(n.astype(int))\n",
    "ax2.set_ylabel('Stable', fontsize=14, color='green')\n",
    "for tl in ax2.get_yticklabels():\n",
    "    tl.set_color('green')\n",
    "    \n",
    "    \n",
    "#ax1.set_ylim(ax2.get_ylim())\n",
    "ax1.set_ylim([0,20.1*n[-1]]) # goes up to ~4300\n",
    "ax2.set_ylim([0,1.1*n[-1]]) # goes up to ~2100"
   ]
  },
  {
   "cell_type": "code",
   "execution_count": 90,
   "metadata": {},
   "outputs": [
    {
     "name": "stderr",
     "output_type": "stream",
     "text": [
      "../Dan_research/spock/spock/modelfitting.py:89: RuntimeWarning: divide by zero encountered in true_divide\n",
      "  errorbars.append(np.sqrt(1./nstable + 1./hist[i])*fracstable[-1]) # assume poisson counting errors for each fractional error, and add in quadrature for error on ratio.\n",
      "../Dan_research/spock/spock/modelfitting.py:89: RuntimeWarning: invalid value encountered in double_scalars\n",
      "  errorbars.append(np.sqrt(1./nstable + 1./hist[i])*fracstable[-1]) # assume poisson counting errors for each fractional error, and add in quadrature for error on ratio.\n"
     ]
    },
    {
     "data": {
      "text/plain": [
       "Text(0, 0.5, 'Fraction actually stable')"
      ]
     },
     "execution_count": 90,
     "metadata": {},
     "output_type": "execute_result"
    },
    {
     "data": {
      "image/png": "[encoded data removed]",
      "text/plain": [
       "<Figure size 576x432 with 1 Axes>"
      ]
     },
     "metadata": {
      "needs_background": "light"
     },
     "output_type": "display_data"
    }
   ],
   "source": [
    "bincenters, fracstable, errorbars = calibration_plot(trainingdatafolder, model, features, bins=8)\n",
    "fig, ax = plt.subplots(figsize=(8,6))\n",
    "ax.plot(np.linspace(0,1,100), np.linspace(0,1,100), '--')\n",
    "ax.errorbar(bincenters, fracstable, errorbars)\n",
    "ax.set_xlim([0,1])\n",
    "ax.set_ylim([0,1])\n",
    "ax.set_xlabel('Predicted Probability of Stability')\n",
    "ax.set_ylabel('Fraction actually stable')"
   ]
  },
  {
   "cell_type": "code",
   "execution_count": 91,
   "metadata": {},
   "outputs": [
    {
     "ename": "KeyError",
     "evalue": "'instability_time'",
     "output_type": "error",
     "traceback": [
      "\u001b[0;31m---------------------------------------------------------------------------\u001b[0m",
      "\u001b[0;31mKeyError\u001b[0m                                  Traceback (most recent call last)",
      "\u001b[0;32m~/miniconda3/lib/python3.7/site-packages/pandas/core/indexes/base.py\u001b[0m in \u001b[0;36mget_loc\u001b[0;34m(self, key, method, tolerance)\u001b[0m\n\u001b[1;32m   2656\u001b[0m             \u001b[0;32mtry\u001b[0m\u001b[0;34m:\u001b[0m\u001b[0;34m\u001b[0m\u001b[0;34m\u001b[0m\u001b[0m\n\u001b[0;32m-> 2657\u001b[0;31m                 \u001b[0;32mreturn\u001b[0m \u001b[0mself\u001b[0m\u001b[0;34m.\u001b[0m\u001b[0m_engine\u001b[0m\u001b[0;34m.\u001b[0m\u001b[0mget_loc\u001b[0m\u001b[0;34m(\u001b[0m\u001b[0mkey\u001b[0m\u001b[0;34m)\u001b[0m\u001b[0;34m\u001b[0m\u001b[0;34m\u001b[0m\u001b[0m\n\u001b[0m\u001b[1;32m   2658\u001b[0m             \u001b[0;32mexcept\u001b[0m \u001b[0mKeyError\u001b[0m\u001b[0;34m:\u001b[0m\u001b[0;34m\u001b[0m\u001b[0;34m\u001b[0m\u001b[0m\n",
      "\u001b[0;32mpandas/_libs/index.pyx\u001b[0m in \u001b[0;36mpandas._libs.index.IndexEngine.get_loc\u001b[0;34m()\u001b[0m\n",
      "\u001b[0;32mpandas/_libs/index.pyx\u001b[0m in \u001b[0;36mpandas._libs.index.IndexEngine.get_loc\u001b[0;34m()\u001b[0m\n",
      "\u001b[0;32mpandas/_libs/hashtable_class_helper.pxi\u001b[0m in \u001b[0;36mpandas._libs.hashtable.PyObjectHashTable.get_item\u001b[0;34m()\u001b[0m\n",
      "\u001b[0;32mpandas/_libs/hashtable_class_helper.pxi\u001b[0m in \u001b[0;36mpandas._libs.hashtable.PyObjectHashTable.get_item\u001b[0;34m()\u001b[0m\n",
      "\u001b[0;31mKeyError\u001b[0m: 'instability_time'",
      "\nDuring handling of the above exception, another exception occurred:\n",
      "\u001b[0;31mKeyError\u001b[0m                                  Traceback (most recent call last)",
      "\u001b[0;32m<ipython-input-91-85d5bd4371f6>\u001b[0m in \u001b[0;36m<module>\u001b[0;34m\u001b[0m\n\u001b[0;32m----> 1\u001b[0;31m \u001b[0mbincenters\u001b[0m\u001b[0;34m,\u001b[0m \u001b[0merrorfracs\u001b[0m\u001b[0;34m,\u001b[0m \u001b[0merrorbars\u001b[0m \u001b[0;34m=\u001b[0m \u001b[0munstable_error_fraction\u001b[0m\u001b[0;34m(\u001b[0m\u001b[0mtrainingdatafolder\u001b[0m\u001b[0;34m,\u001b[0m \u001b[0mmodel\u001b[0m\u001b[0;34m,\u001b[0m \u001b[0mfeatures\u001b[0m\u001b[0;34m,\u001b[0m \u001b[0mbins\u001b[0m\u001b[0;34m=\u001b[0m\u001b[0;36m10\u001b[0m\u001b[0;34m)\u001b[0m\u001b[0;34m\u001b[0m\u001b[0;34m\u001b[0m\u001b[0m\n\u001b[0m\u001b[1;32m      2\u001b[0m \u001b[0mfig\u001b[0m\u001b[0;34m,\u001b[0m \u001b[0max\u001b[0m \u001b[0;34m=\u001b[0m \u001b[0mplt\u001b[0m\u001b[0;34m.\u001b[0m\u001b[0msubplots\u001b[0m\u001b[0;34m(\u001b[0m\u001b[0mfigsize\u001b[0m\u001b[0;34m=\u001b[0m\u001b[0;34m(\u001b[0m\u001b[0;36m8\u001b[0m\u001b[0;34m,\u001b[0m\u001b[0;36m6\u001b[0m\u001b[0;34m)\u001b[0m\u001b[0;34m)\u001b[0m\u001b[0;34m\u001b[0m\u001b[0;34m\u001b[0m\u001b[0m\n\u001b[1;32m      3\u001b[0m \u001b[0max\u001b[0m\u001b[0;34m.\u001b[0m\u001b[0merrorbar\u001b[0m\u001b[0;34m(\u001b[0m\u001b[0mbincenters\u001b[0m\u001b[0;34m,\u001b[0m \u001b[0merrorfracs\u001b[0m\u001b[0;34m,\u001b[0m \u001b[0merrorbars\u001b[0m\u001b[0;34m)\u001b[0m\u001b[0;34m\u001b[0m\u001b[0;34m\u001b[0m\u001b[0m\n\u001b[1;32m      4\u001b[0m \u001b[0max\u001b[0m\u001b[0;34m.\u001b[0m\u001b[0mset_ylim\u001b[0m\u001b[0;34m(\u001b[0m\u001b[0;34m[\u001b[0m\u001b[0;36m0\u001b[0m\u001b[0;34m,\u001b[0m\u001b[0;36m1\u001b[0m\u001b[0;34m]\u001b[0m\u001b[0;34m)\u001b[0m\u001b[0;34m\u001b[0m\u001b[0;34m\u001b[0m\u001b[0m\n\u001b[1;32m      5\u001b[0m \u001b[0max\u001b[0m\u001b[0;34m.\u001b[0m\u001b[0mset_xlabel\u001b[0m\u001b[0;34m(\u001b[0m\u001b[0;34m'Log Instability Time'\u001b[0m\u001b[0;34m)\u001b[0m\u001b[0;34m\u001b[0m\u001b[0;34m\u001b[0m\u001b[0m\n",
      "\u001b[0;32m/storage/work/c/cjg66/Dan_research/spock/spock/modelfitting.py\u001b[0m in \u001b[0;36munstable_error_fraction\u001b[0;34m(trainingdatafolder, model, features, bins, filter, filtertimes)\u001b[0m\n\u001b[1;32m     95\u001b[0m     \u001b[0mtrainX\u001b[0m\u001b[0;34m,\u001b[0m \u001b[0mtrainy\u001b[0m\u001b[0;34m,\u001b[0m \u001b[0mtestX\u001b[0m\u001b[0;34m,\u001b[0m \u001b[0mtesty\u001b[0m \u001b[0;34m=\u001b[0m \u001b[0mtrain_test_split\u001b[0m\u001b[0;34m(\u001b[0m\u001b[0mtrainingdatafolder\u001b[0m\u001b[0;34m,\u001b[0m \u001b[0mfeatures\u001b[0m\u001b[0;34m,\u001b[0m \u001b[0mfilter\u001b[0m\u001b[0;34m=\u001b[0m\u001b[0mfilter\u001b[0m\u001b[0;34m,\u001b[0m \u001b[0mfiltertimes\u001b[0m\u001b[0;34m=\u001b[0m\u001b[0mfiltertimes\u001b[0m\u001b[0;34m)\u001b[0m\u001b[0;34m\u001b[0m\u001b[0;34m\u001b[0m\u001b[0m\n\u001b[1;32m     96\u001b[0m     \u001b[0mpreds\u001b[0m \u001b[0;34m=\u001b[0m \u001b[0mmodel\u001b[0m\u001b[0;34m.\u001b[0m\u001b[0mpredict_proba\u001b[0m\u001b[0;34m(\u001b[0m\u001b[0mtestX\u001b[0m\u001b[0;34m)\u001b[0m\u001b[0;34m[\u001b[0m\u001b[0;34m:\u001b[0m\u001b[0;34m,\u001b[0m\u001b[0;36m1\u001b[0m\u001b[0;34m]\u001b[0m\u001b[0;34m\u001b[0m\u001b[0;34m\u001b[0m\u001b[0m\n\u001b[0;32m---> 97\u001b[0;31m     \u001b[0mdummy\u001b[0m\u001b[0;34m,\u001b[0m \u001b[0mdummy\u001b[0m\u001b[0;34m,\u001b[0m \u001b[0mdummy\u001b[0m\u001b[0;34m,\u001b[0m \u001b[0minst_times\u001b[0m \u001b[0;34m=\u001b[0m \u001b[0mtrain_test_split\u001b[0m\u001b[0;34m(\u001b[0m\u001b[0mtrainingdatafolder\u001b[0m\u001b[0;34m,\u001b[0m \u001b[0mfeatures\u001b[0m\u001b[0;34m,\u001b[0m \u001b[0mlabelname\u001b[0m\u001b[0;34m=\u001b[0m\u001b[0;34m'instability_time'\u001b[0m\u001b[0;34m,\u001b[0m \u001b[0mfilter\u001b[0m\u001b[0;34m=\u001b[0m\u001b[0mfilter\u001b[0m\u001b[0;34m,\u001b[0m \u001b[0mfiltertimes\u001b[0m\u001b[0;34m=\u001b[0m\u001b[0mfiltertimes\u001b[0m\u001b[0;34m)\u001b[0m\u001b[0;34m\u001b[0m\u001b[0;34m\u001b[0m\u001b[0m\n\u001b[0m\u001b[1;32m     98\u001b[0m     \u001b[0mlog_inst_times\u001b[0m \u001b[0;34m=\u001b[0m \u001b[0mnp\u001b[0m\u001b[0;34m.\u001b[0m\u001b[0mlog10\u001b[0m\u001b[0;34m(\u001b[0m\u001b[0minst_times\u001b[0m\u001b[0;34m)\u001b[0m\u001b[0;34m\u001b[0m\u001b[0;34m\u001b[0m\u001b[0m\n\u001b[1;32m     99\u001b[0m \u001b[0;34m\u001b[0m\u001b[0m\n",
      "\u001b[0;32m/storage/work/c/cjg66/Dan_research/spock/spock/modelfitting.py\u001b[0m in \u001b[0;36mtrain_test_split\u001b[0;34m(trainingdatafolder, features, labelname, filter, filtertimes)\u001b[0m\n\u001b[1;32m     26\u001b[0m         \u001b[0mX\u001b[0m \u001b[0;34m=\u001b[0m \u001b[0mdataset\u001b[0m\u001b[0;34m[\u001b[0m\u001b[0mlabels\u001b[0m\u001b[0;34m[\u001b[0m\u001b[0;34m'instability_time'\u001b[0m\u001b[0;34m]\u001b[0m \u001b[0;34m>\u001b[0m \u001b[0;36m1.e4\u001b[0m\u001b[0;34m]\u001b[0m\u001b[0;34m[\u001b[0m\u001b[0mfeatures\u001b[0m\u001b[0;34m]\u001b[0m\u001b[0;34m\u001b[0m\u001b[0;34m\u001b[0m\u001b[0m\n\u001b[1;32m     27\u001b[0m     \u001b[0;32melse\u001b[0m\u001b[0;34m:\u001b[0m\u001b[0;34m\u001b[0m\u001b[0;34m\u001b[0m\u001b[0m\n\u001b[0;32m---> 28\u001b[0;31m         \u001b[0my\u001b[0m \u001b[0;34m=\u001b[0m \u001b[0mlabels\u001b[0m\u001b[0;34m[\u001b[0m\u001b[0mlabelname\u001b[0m\u001b[0;34m]\u001b[0m\u001b[0;34m\u001b[0m\u001b[0;34m\u001b[0m\u001b[0m\n\u001b[0m\u001b[1;32m     29\u001b[0m         \u001b[0mX\u001b[0m \u001b[0;34m=\u001b[0m \u001b[0mdataset\u001b[0m\u001b[0;34m[\u001b[0m\u001b[0mfeatures\u001b[0m\u001b[0;34m]\u001b[0m\u001b[0;34m\u001b[0m\u001b[0;34m\u001b[0m\u001b[0m\n\u001b[1;32m     30\u001b[0m \u001b[0;34m\u001b[0m\u001b[0m\n",
      "\u001b[0;32m~/miniconda3/lib/python3.7/site-packages/pandas/core/frame.py\u001b[0m in \u001b[0;36m__getitem__\u001b[0;34m(self, key)\u001b[0m\n\u001b[1;32m   2925\u001b[0m             \u001b[0;32mif\u001b[0m \u001b[0mself\u001b[0m\u001b[0;34m.\u001b[0m\u001b[0mcolumns\u001b[0m\u001b[0;34m.\u001b[0m\u001b[0mnlevels\u001b[0m \u001b[0;34m>\u001b[0m \u001b[0;36m1\u001b[0m\u001b[0;34m:\u001b[0m\u001b[0;34m\u001b[0m\u001b[0;34m\u001b[0m\u001b[0m\n\u001b[1;32m   2926\u001b[0m                 \u001b[0;32mreturn\u001b[0m \u001b[0mself\u001b[0m\u001b[0;34m.\u001b[0m\u001b[0m_getitem_multilevel\u001b[0m\u001b[0;34m(\u001b[0m\u001b[0mkey\u001b[0m\u001b[0;34m)\u001b[0m\u001b[0;34m\u001b[0m\u001b[0;34m\u001b[0m\u001b[0m\n\u001b[0;32m-> 2927\u001b[0;31m             \u001b[0mindexer\u001b[0m \u001b[0;34m=\u001b[0m \u001b[0mself\u001b[0m\u001b[0;34m.\u001b[0m\u001b[0mcolumns\u001b[0m\u001b[0;34m.\u001b[0m\u001b[0mget_loc\u001b[0m\u001b[0;34m(\u001b[0m\u001b[0mkey\u001b[0m\u001b[0;34m)\u001b[0m\u001b[0;34m\u001b[0m\u001b[0;34m\u001b[0m\u001b[0m\n\u001b[0m\u001b[1;32m   2928\u001b[0m             \u001b[0;32mif\u001b[0m \u001b[0mis_integer\u001b[0m\u001b[0;34m(\u001b[0m\u001b[0mindexer\u001b[0m\u001b[0;34m)\u001b[0m\u001b[0;34m:\u001b[0m\u001b[0;34m\u001b[0m\u001b[0;34m\u001b[0m\u001b[0m\n\u001b[1;32m   2929\u001b[0m                 \u001b[0mindexer\u001b[0m \u001b[0;34m=\u001b[0m \u001b[0;34m[\u001b[0m\u001b[0mindexer\u001b[0m\u001b[0;34m]\u001b[0m\u001b[0;34m\u001b[0m\u001b[0;34m\u001b[0m\u001b[0m\n",
      "\u001b[0;32m~/miniconda3/lib/python3.7/site-packages/pandas/core/indexes/base.py\u001b[0m in \u001b[0;36mget_loc\u001b[0;34m(self, key, method, tolerance)\u001b[0m\n\u001b[1;32m   2657\u001b[0m                 \u001b[0;32mreturn\u001b[0m \u001b[0mself\u001b[0m\u001b[0;34m.\u001b[0m\u001b[0m_engine\u001b[0m\u001b[0;34m.\u001b[0m\u001b[0mget_loc\u001b[0m\u001b[0;34m(\u001b[0m\u001b[0mkey\u001b[0m\u001b[0;34m)\u001b[0m\u001b[0;34m\u001b[0m\u001b[0;34m\u001b[0m\u001b[0m\n\u001b[1;32m   2658\u001b[0m             \u001b[0;32mexcept\u001b[0m \u001b[0mKeyError\u001b[0m\u001b[0;34m:\u001b[0m\u001b[0;34m\u001b[0m\u001b[0;34m\u001b[0m\u001b[0m\n\u001b[0;32m-> 2659\u001b[0;31m                 \u001b[0;32mreturn\u001b[0m \u001b[0mself\u001b[0m\u001b[0;34m.\u001b[0m\u001b[0m_engine\u001b[0m\u001b[0;34m.\u001b[0m\u001b[0mget_loc\u001b[0m\u001b[0;34m(\u001b[0m\u001b[0mself\u001b[0m\u001b[0;34m.\u001b[0m\u001b[0m_maybe_cast_indexer\u001b[0m\u001b[0;34m(\u001b[0m\u001b[0mkey\u001b[0m\u001b[0;34m)\u001b[0m\u001b[0;34m)\u001b[0m\u001b[0;34m\u001b[0m\u001b[0;34m\u001b[0m\u001b[0m\n\u001b[0m\u001b[1;32m   2660\u001b[0m         \u001b[0mindexer\u001b[0m \u001b[0;34m=\u001b[0m \u001b[0mself\u001b[0m\u001b[0;34m.\u001b[0m\u001b[0mget_indexer\u001b[0m\u001b[0;34m(\u001b[0m\u001b[0;34m[\u001b[0m\u001b[0mkey\u001b[0m\u001b[0;34m]\u001b[0m\u001b[0;34m,\u001b[0m \u001b[0mmethod\u001b[0m\u001b[0;34m=\u001b[0m\u001b[0mmethod\u001b[0m\u001b[0;34m,\u001b[0m \u001b[0mtolerance\u001b[0m\u001b[0;34m=\u001b[0m\u001b[0mtolerance\u001b[0m\u001b[0;34m)\u001b[0m\u001b[0;34m\u001b[0m\u001b[0;34m\u001b[0m\u001b[0m\n\u001b[1;32m   2661\u001b[0m         \u001b[0;32mif\u001b[0m \u001b[0mindexer\u001b[0m\u001b[0;34m.\u001b[0m\u001b[0mndim\u001b[0m \u001b[0;34m>\u001b[0m \u001b[0;36m1\u001b[0m \u001b[0;32mor\u001b[0m \u001b[0mindexer\u001b[0m\u001b[0;34m.\u001b[0m\u001b[0msize\u001b[0m \u001b[0;34m>\u001b[0m \u001b[0;36m1\u001b[0m\u001b[0;34m:\u001b[0m\u001b[0;34m\u001b[0m\u001b[0;34m\u001b[0m\u001b[0m\n",
      "\u001b[0;32mpandas/_libs/index.pyx\u001b[0m in \u001b[0;36mpandas._libs.index.IndexEngine.get_loc\u001b[0;34m()\u001b[0m\n",
      "\u001b[0;32mpandas/_libs/index.pyx\u001b[0m in \u001b[0;36mpandas._libs.index.IndexEngine.get_loc\u001b[0;34m()\u001b[0m\n",
      "\u001b[0;32mpandas/_libs/hashtable_class_helper.pxi\u001b[0m in \u001b[0;36mpandas._libs.hashtable.PyObjectHashTable.get_item\u001b[0;34m()\u001b[0m\n",
      "\u001b[0;32mpandas/_libs/hashtable_class_helper.pxi\u001b[0m in \u001b[0;36mpandas._libs.hashtable.PyObjectHashTable.get_item\u001b[0;34m()\u001b[0m\n",
      "\u001b[0;31mKeyError\u001b[0m: 'instability_time'"
     ]
    }
   ],
   "source": [
    "bincenters, errorfracs, errorbars = unstable_error_fraction(trainingdatafolder, model, features, bins=10)\n",
    "fig, ax = plt.subplots(figsize=(8,6))\n",
    "ax.errorbar(bincenters, errorfracs, errorbars)\n",
    "ax.set_ylim([0,1])\n",
    "ax.set_xlabel('Log Instability Time')\n",
    "ax.set_ylabel('Error Fraction')\n",
    "ax.set_title('Fraction of unstable systems mislabeled as stable')"
   ]
  },
  {
   "cell_type": "code",
   "execution_count": null,
   "metadata": {},
   "outputs": [],
   "source": []
  }
 ],
 "metadata": {
  "kernelspec": {
   "display_name": "Python 3",
   "language": "python",
   "name": "python3"
  },
  "language_info": {
   "codemirror_mode": {
    "name": "ipython",
    "version": 3
   },
   "file_extension": ".py",
   "mimetype": "text/x-python",
   "name": "python",
   "nbconvert_exporter": "python",
   "pygments_lexer": "ipython3",
   "version": "3.7.4"
  }
 },
 "nbformat": 4,
 "nbformat_minor": 2
}
