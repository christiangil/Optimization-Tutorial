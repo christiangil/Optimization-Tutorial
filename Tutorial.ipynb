{
 "cells": [
  {
   "cell_type": "code",
   "execution_count": 1,
   "metadata": {},
   "outputs": [],
   "source": [
    "import numpy as np\n",
    "import numpy.random as rd\n",
    "import os\n",
    "import matplotlib.pyplot as plt\n",
    "%matplotlib inline\n",
    "import pandas as pd\n",
    "from sklearn import metrics\n",
    "import xgboost as xgb\n",
    "from xgboost.sklearn import XGBClassifier\n",
    "from hyperopt import hp, fmin, tpe, STATUS_OK, Trials\n",
    "import hyperopt\n",
    "import dill\n",
    "import sys\n",
    "sys.path.append('../Dan_research/spock')\n",
    "from spock.modelfitting import train_test_split, ROC_curve, stable_unstable_hist, calibration_plot, unstable_error_fraction\n",
    "from spock.feature_functions import features\n",
    "import rebound\n",
    "import dask.dataframe as dd\n",
    "from multiprocessing import Pool\n",
    "\n",
    "n_workers=os.cpu_count()"
   ]
  },
  {
   "cell_type": "code",
   "execution_count": 91,
   "metadata": {},
   "outputs": [],
   "source": [
    "os.system(\"jupyter nbconvert --to markdown Tutorial.ipynb\");"
   ]
  },
  {
   "cell_type": "markdown",
   "metadata": {},
   "source": [
    "# Generating fake systems"
   ]
  },
  {
   "cell_type": "code",
   "execution_count": 75,
   "metadata": {},
   "outputs": [],
   "source": [
    "seconds_p_day = 86400\n",
    "days_p_year = 365.25\n",
    "meters_p_AU = 149597870700\n",
    "earth_mass_p_solar_mass = 333000\n",
    "year_p_reboundtime = 1 / (2 * np.pi)\n",
    "AU_p_RS = 0.00465047\n",
    "\n",
    "def replace_snapshot(sim, filename):\n",
    "    if os.path.isfile(filename):\n",
    "        os.remove(filename)\n",
    "    sim.simulationarchive_snapshot(filename)\n",
    "    \n",
    "def loguniform(low=0.001, high=1, size=None):\n",
    "    return np.exp(rd.uniform(np.log(low), np.log(high), size))\n",
    "\n",
    "def max_e_inner(a_in, a_out, e_out=0):\n",
    "    return a_out / a_in * (1 - e_out) - 1\n",
    "\n",
    "def max_e_outer(a_out, a_in, e_in=0):\n",
    "    return 1 - a_in / a_out * (1 + e_in)\n",
    "\n",
    "def min_es(ms, As):\n",
    "    Nplanets = len(ms)\n",
    "    e_mins = np.zeros(Nplanets)\n",
    "    for i in range(Nplanets):\n",
    "        e_mins[i] = As[i] ** 2\n",
    "        inner_sum = 0\n",
    "        for j in range(Nplanets):\n",
    "            if i != j:\n",
    "                inner_sum += (ms[j] / np.max([As[i], As[j]]) ** 2) ** 2\n",
    "        e_mins[i] *= np.sqrt(inner_sum)\n",
    "    return e_mins\n",
    "\n",
    "def check_es(a0, e0, a1, e1, a2, e2):\n",
    "    return (e0 <= max_e_inner(a0, a1, e1)) and (e1 <= max_e_inner(a1, a2, e2)) and (e1 <= max_e_outer(a1, a0, e0)) and (e2 <= max_e_outer(a2, a1, e1))\n",
    "\n",
    "\n",
    "def collision(reb_sim, col):\n",
    "    reb_sim.contents._status = 5\n",
    "    return 0\n",
    "\n",
    "\n",
    "\"\"\"\n",
    "Generating random systems\n",
    "Using methodolgy similar to Tamayo et al. 2020 (in prep)\n",
    "\"\"\"\n",
    "def generate_system():\n",
    "    Mstar = 1\n",
    "    mutual_hill_radii_sep = rd.uniform(0, 40, 2)\n",
    "    incs = rd.uniform(1e-3, 1e-1, 3)  # inclinations (radians)\n",
    "    Ws = 2 * np.pi * rd.rand(3)  # longitude of ascending node (radians)\n",
    "    ws = 2 * np.pi * rd.rand(3)  # pericenter orientation (radians)\n",
    "    Ms = 2 * np.pi * rd.rand(3)  # initial orbital phase (radians)\n",
    "    ms = loguniform(1e-7, 1e-4, 3)  # mass ratios of planets to star, from ~1/3 Mars to ~2x Neptune \n",
    "    \n",
    "    As = np.ones(3)\n",
    "    As[0] = rd.uniform(low=0.5, high=1.5)  # first planet is 0.5 to 1.5 AU from central star\n",
    "    for i in range(1,3):  # the other semi major axes are chosen by a mutual radii separation of 0-30\n",
    "        shared_quant = np.cbrt(9 * (ms[i-1] + ms[i]) / Mstar) * mutual_hill_radii_sep[i-1]\n",
    "        As[i] = As[i-1] * (6 + shared_quant) / (6 - shared_quant)\n",
    "    \n",
    "    radii = As * np.cbrt(ms[i] / Mstar / 3)\n",
    "        \n",
    "    es = np.array([0,0,0])\n",
    "    bad_es = True\n",
    "    e0_max = np.min([max_e_inner(As[0], As[1]), 1])\n",
    "    e1_max = np.min([np.minimum(max_e_inner(As[1], As[2], es[2]), max_e_outer(As[1], As[0])), 1]) # ~0.15\n",
    "    e2_max = np.min([max_e_outer(As[2], As[1]), 1])\n",
    "    e_mins = min_es(ms, As)\n",
    "    while bad_es:\n",
    "        es = np.array([loguniform(e_mins[0], e0_max), loguniform(e_mins[1], e1_max), loguniform(e_mins[2], e2_max)])\n",
    "        bad_es = not check_es(As[0], es[0], As[1], es[1], As[2], es[2])\n",
    "\n",
    "    sim = rebound.Simulation()\n",
    "    sim.add(m=1.)\n",
    "#     print(ms, As, es, Ws, ws, Ms, incs)\n",
    "    for i in range(3):\n",
    "        sim.add(m=ms[i], a=As[i], e=es[i], Omega=Ws[i], omega=ws[i], M=Ms[i], inc=incs[i], r=radii[i])\n",
    "    sim.move_to_com()\n",
    "    \n",
    "    sim.collision = 'line'\n",
    "    sim.collision_resolve = collision\n",
    "    sim.ri_whfast.keep_unsynchronized = 1\n",
    "    sim.ri_whfast.safe_mode = 0\n",
    "    \n",
    "    sim.integrator = \"whfast\"\n",
    "    sim.dt = np.sqrt(2) / 20 * sim.particles[1].P\n",
    "        \n",
    "    return sim"
   ]
  },
  {
   "cell_type": "code",
   "execution_count": 76,
   "metadata": {},
   "outputs": [],
   "source": [
    "sim_names = \"test_sims/\"\n",
    "n = 1024\n",
    "sa_names = [(\"id_%5.0d.bin\"%i).replace(\" \",\"0\") for i in range(n)]\n",
    "\n",
    "for i in range(n):\n",
    "    sim = generate_system()\n",
    "    replace_snapshot(sim, sim_names + sa_names[i])"
   ]
  },
  {
   "cell_type": "code",
   "execution_count": 77,
   "metadata": {},
   "outputs": [
    {
     "name": "stdout",
     "output_type": "stream",
     "text": [
      "[8.53868391350995, 20.211721187399984, 21.155360121612865]\n",
      "[0.018119143871028642, 0.0321819696774546, 0.03317610799049332]\n"
     ]
    },
    {
     "data": {
      "text/plain": [
       "(<Figure size 360x360 with 1 Axes>,\n",
       " <matplotlib.axes._subplots.AxesSubplot at 0x7fb9e43e07d0>)"
      ]
     },
     "execution_count": 77,
     "metadata": {},
     "output_type": "execute_result"
    },
    {
     "data": {
      "image/png": "[encoded data removed]",
      "text/plain": [
       "<Figure size 360x360 with 1 Axes>"
      ]
     },
     "metadata": {
      "needs_background": "light"
     },
     "output_type": "display_data"
    }
   ],
   "source": [
    "sim = rebound.SimulationArchive(sim_names + sa_names[0])[0]\n",
    "print([sim.particles[1+i].P for i in range(3)])\n",
    "print([sim.particles[1+i].r for i in range(3)])\n",
    "# print(features(sim, features_args))\n",
    "rebound.OrbitPlot(sim)"
   ]
  },
  {
   "cell_type": "markdown",
   "metadata": {},
   "source": [
    "# Calculating features"
   ]
  },
  {
   "cell_type": "code",
   "execution_count": 78,
   "metadata": {},
   "outputs": [],
   "source": [
    "Norbits = 1e4\n",
    "Nout = 80\n",
    "trios = [[i,i+1,i+2] for i in range(1,sim.N_real-2)]\n",
    "features_args = [Norbits, Nout] + [trios]\n",
    "\n",
    "def calculate_features(row):\n",
    "    res, stable = features(rebound.SimulationArchive(sim_names + row[\"sim\"])[0], features_args)\n",
    "    r = res[0]\n",
    "    return pd.Series(r, index=list(r.keys()))"
   ]
  },
  {
   "cell_type": "code",
   "execution_count": 79,
   "metadata": {},
   "outputs": [
    {
     "name": "stderr",
     "output_type": "stream",
     "text": [
      "/storage/home/cjg66/miniconda3/lib/python3.7/site-packages/numpy/lib/function_base.py:3405: RuntimeWarning: Invalid value encountered in median\n",
      "  r = func(a, **kwargs)\n",
      "/storage/home/cjg66/miniconda3/lib/python3.7/site-packages/numpy/lib/function_base.py:3405: RuntimeWarning: Invalid value encountered in median\n",
      "  r = func(a, **kwargs)\n",
      "/storage/home/cjg66/miniconda3/lib/python3.7/site-packages/numpy/lib/function_base.py:3405: RuntimeWarning: Invalid value encountered in median\n",
      "  r = func(a, **kwargs)\n",
      "/storage/home/cjg66/miniconda3/lib/python3.7/site-packages/numpy/lib/function_base.py:3405: RuntimeWarning: Invalid value encountered in median\n",
      "  r = func(a, **kwargs)\n",
      "/storage/home/cjg66/miniconda3/lib/python3.7/site-packages/numpy/lib/function_base.py:3405: RuntimeWarning: Invalid value encountered in median\n",
      "  r = func(a, **kwargs)\n",
      "/storage/home/cjg66/miniconda3/lib/python3.7/site-packages/numpy/lib/function_base.py:3405: RuntimeWarning: Invalid value encountered in median\n",
      "  r = func(a, **kwargs)\n",
      "/storage/home/cjg66/miniconda3/lib/python3.7/site-packages/numpy/lib/function_base.py:3405: RuntimeWarning: Invalid value encountered in median\n",
      "  r = func(a, **kwargs)\n",
      "/storage/home/cjg66/miniconda3/lib/python3.7/site-packages/numpy/lib/function_base.py:3405: RuntimeWarning: Invalid value encountered in median\n",
      "  r = func(a, **kwargs)\n"
     ]
    },
    {
     "name": "stdout",
     "output_type": "stream",
     "text": [
      "CPU times: user 811 ms, sys: 219 ms, total: 1.03 s\n",
      "Wall time: 2min\n"
     ]
    }
   ],
   "source": [
    "%%time\n",
    "df = pd.DataFrame(data=sa_names, columns=[\"sim\"])\n",
    "ddf = dd.from_pandas(df, npartitions=n_workers)\n",
    "testres = calculate_features(df.loc[0])\n",
    "metadf = pd.DataFrame([testres])\n",
    "res = ddf.apply(calculate_features, axis=1, meta=metadf).compute(scheduler='processes')\n",
    "res.to_csv(\"test_sims_feat.csv\")"
   ]
  },
  {
   "cell_type": "code",
   "execution_count": null,
   "metadata": {},
   "outputs": [],
   "source": [
    "# %%time\n",
    "# hmm = pd.DataFrame(features(rebound.SimulationArchive(sim_names + sa_names[0])[0], features_args)[0])\n",
    "# for i in range(1,10):\n",
    "#     hmm = hmm.append(pd.DataFrame(ff.features(rebound.SimulationArchive(sim_names + sa_names[i])[0], features_args)[0]), ignore_index=True)\n",
    "# hmm[\"sim\"] = sa_names[:10]"
   ]
  },
  {
   "cell_type": "code",
   "execution_count": null,
   "metadata": {},
   "outputs": [],
   "source": [
    "# res"
   ]
  },
  {
   "cell_type": "markdown",
   "metadata": {},
   "source": [
    "# Are systems truly stable?"
   ]
  },
  {
   "cell_type": "code",
   "execution_count": 80,
   "metadata": {},
   "outputs": [],
   "source": [
    "def system_stable(nsim):\n",
    "    sim = rebound.SimulationArchive(sim_names + sa_names[nsim])[0]\n",
    "    P1 = sim.particles[1].P\n",
    "    try:\n",
    "        sim.integrate(1e6 * P1, exact_finish_time=0)\n",
    "        return True\n",
    "    except:\n",
    "        return False"
   ]
  },
  {
   "cell_type": "code",
   "execution_count": 81,
   "metadata": {},
   "outputs": [
    {
     "name": "stderr",
     "output_type": "stream",
     "text": [
      "/storage/home/cjg66/miniconda3/lib/python3.7/site-packages/rebound/simulationarchive.py:132: RuntimeWarning: You have to reset function pointers after creating a reb_simulation struct with a binary file.\n",
      "  warnings.warn(message, RuntimeWarning)\n"
     ]
    },
    {
     "name": "stdout",
     "output_type": "stream",
     "text": [
      "CPU times: user 15.4 s, sys: 10 ms, total: 15.4 s\n",
      "Wall time: 15.3 s\n"
     ]
    },
    {
     "data": {
      "text/plain": [
       "True"
      ]
     },
     "execution_count": 81,
     "metadata": {},
     "output_type": "execute_result"
    }
   ],
   "source": [
    "%%time\n",
    "system_stable(1)"
   ]
  },
  {
   "cell_type": "code",
   "execution_count": 82,
   "metadata": {},
   "outputs": [
    {
     "name": "stdout",
     "output_type": "stream",
     "text": [
      "CPU times: user 6.93 s, sys: 1.49 s, total: 8.43 s\n",
      "Wall time: 24min 16s\n"
     ]
    }
   ],
   "source": [
    "%%time\n",
    "pool = Pool(processes=n_workers)\n",
    "nsim_list = np.arange(0, n)\n",
    "res = pool.map(system_stable, nsim_list)\n",
    "df = pd.DataFrame(data=sa_names, columns=[\"sim\"])\n",
    "df[\"stability\"] = res\n",
    "df.to_csv(\"test_sims_stab.csv\")"
   ]
  },
  {
   "cell_type": "markdown",
   "metadata": {},
   "source": [
    "# will work on stuff below tomorrow"
   ]
  },
  {
   "cell_type": "code",
   "execution_count": null,
   "metadata": {},
   "outputs": [],
   "source": [
    "datapath = '../Dan_research/spock/training_data/'\n",
    "dset = 'resonant/'\n",
    "datapath = '../Dan_research/spock/training_data/'\n",
    "dset = 'resonant/'\n",
    "Norbits = 1e4\n",
    "Nout = 80\n",
    "featureargs = (Norbits, Nout) # params to pass feature function\n",
    "featurefolder = 'additional_featuresNorbits{0:.1f}Nout{1}trio/'.format(Norbits, Nout)\n",
    "trainingdatafolder = datapath+dset+featurefolder"
   ]
  },
  {
   "cell_type": "code",
   "execution_count": null,
   "metadata": {},
   "outputs": [],
   "source": [
    "# space ={\n",
    "#         'max_depth': hp.randint('x_max_depth',  20),\n",
    "#         'min_child_weight': hp.quniform ('x_min_child', 1, 10, 1),\n",
    "#         'subsample': hp.uniform ('x_subsample', 0.8, 1),\n",
    "#         'scale_pos_weight': hp.uniform(\"x_pos_weight\", 1, 50),\n",
    "#         \"learning_rate\":hp.uniform(\"x_learning_rate\",0.01,0.2),\n",
    "#         'colsample_bytree': hp.uniform ('x_tree_colsample', 0.5,1),\n",
    "# }\n",
    "\n",
    "def objective(params):\n",
    "    clf = XGBClassifier(n_estimators = 100,\n",
    "                            max_depth = params['max_depth'], \n",
    "                            min_child_weight = params['min_child_weight'],\n",
    "                            subsample = params['subsample'],\n",
    "                            colsample_bytree = params['colsample_bytree'],\n",
    "                            learning_rate = params['learning_rate'], seed = 0)\n",
    "    \n",
    "    score = xgb.cv(clf.get_xgb_params(), dtrain, nfold = 5, metrics = \"auc\", early_stopping_rounds=10)\n",
    "    avg_score =  np.mean(score[\"test-auc-mean\"])\n",
    "    error = np.mean(score[\"test-auc-std\"])\n",
    "    \n",
    "    print(\"SCORE:\", avg_score, \"ERROR\", error)#, \"HOLDOUT SCORE\", test_score)\n",
    "    return{'loss':1-avg_score, 'status': STATUS_OK, \"cv_score\":avg_score , \"cv_error\":error}"
   ]
  },
  {
   "cell_type": "code",
   "execution_count": null,
   "metadata": {},
   "outputs": [],
   "source": [
    "trainingdatafolder"
   ]
  },
  {
   "cell_type": "code",
   "execution_count": null,
   "metadata": {},
   "outputs": [],
   "source": [
    "features = ['MEGNO']\n",
    "\n",
    "trainX, trainY, testX, testY = train_test_split(trainingdatafolder, features, filter=False)\n",
    "\n",
    "dtrain = xgb.DMatrix(trainX, trainY)\n",
    "dtest = xgb.DMatrix(testX, testY)"
   ]
  },
  {
   "cell_type": "code",
   "execution_count": null,
   "metadata": {},
   "outputs": [],
   "source": [
    "%%time\n",
    "trials = Trials()\n",
    "import time\n",
    "start = time.time()\n",
    "best = fmin(fn=objective, space = space, algo = tpe.suggest, max_evals = 50, trials = trials, rstate=np.random.RandomState(seed=0))\n",
    "end = time.time()\n",
    "print(\"Optimization Time: %f seconds\", (end  -start))"
   ]
  },
  {
   "cell_type": "code",
   "execution_count": null,
   "metadata": {},
   "outputs": [],
   "source": [
    "best"
   ]
  },
  {
   "cell_type": "code",
   "execution_count": null,
   "metadata": {},
   "outputs": [],
   "source": [
    "model = XGBClassifier(n_estimators=100, scale_pos_weight=best[\"x_pos_weight\"],\n",
    "                         learning_rate = best[\"x_learning_rate\"], \n",
    "                         max_depth = int(best[\"x_max_depth\"]), \n",
    "                         min_child_weight = best[\"x_min_child\"],\n",
    "                         subsample = best[\"x_subsample\"], \n",
    "                         colsample_bytree = best[\"x_tree_colsample\"])\n",
    "\n",
    "score = xgb.cv(model.get_xgb_params(), dtrain, nfold = 5, metrics = \"auc\", verbose_eval=True, num_boost_round=10)\n",
    "model.fit(trainX, trainY)"
   ]
  },
  {
   "cell_type": "code",
   "execution_count": null,
   "metadata": {},
   "outputs": [],
   "source": [
    "model.save_model(datapath+'../models/megno.bin')\n",
    "dill.dump([model, features, featureargs, featurefolder], open(datapath+\"../models/megno.pkl\", \"wb\"))"
   ]
  },
  {
   "cell_type": "code",
   "execution_count": null,
   "metadata": {},
   "outputs": [],
   "source": [
    "roc_auc, fpr, tpr, ROCthresholds = ROC_curve(trainingdatafolder, model, features)\n",
    "\n",
    "fig, ax = plt.subplots()\n",
    "ax.plot(fpr, tpr)\n",
    "ax.plot([0, 1], [0, 1], 'k--')\n",
    "ax.set_xlim([0.0, 1.0])\n",
    "ax.set_ylim([0.0, 1.0])\n",
    "ax.set_xlabel('False Positive Rate')\n",
    "ax.set_ylabel('True Positive Rate')\n",
    "ax.set_title('ROC curve (AUC = {0:.3f})'.format(roc_auc))"
   ]
  },
  {
   "cell_type": "code",
   "execution_count": null,
   "metadata": {},
   "outputs": [],
   "source": [
    "model, features, featureargs, featurefolder = dill.load(open('../models/megno.pkl', 'rb'))"
   ]
  },
  {
   "cell_type": "code",
   "execution_count": null,
   "metadata": {},
   "outputs": [],
   "source": [
    "for i in range(0,len(tpr), 15):\n",
    "    print(\"Threshold {0}, TPR = {1}, FPR = {2}\".format(ROCthresholds[i], tpr[i], fpr[i]))"
   ]
  }
 ],
 "metadata": {
  "kernelspec": {
   "display_name": "Python 3",
   "language": "python",
   "name": "python3"
  },
  "language_info": {
   "codemirror_mode": {
    "name": "ipython",
    "version": 3
   },
   "file_extension": ".py",
   "mimetype": "text/x-python",
   "name": "python",
   "nbconvert_exporter": "python",
   "pygments_lexer": "ipython3",
   "version": "3.7.4"
  }
 },
 "nbformat": 4,
 "nbformat_minor": 2
}
