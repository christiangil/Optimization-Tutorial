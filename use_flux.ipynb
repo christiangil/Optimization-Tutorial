{
 "cells": [
  {
   "cell_type": "markdown",
   "metadata": {},
   "source": [
    "beep borp"
   ]
  },
  {
   "cell_type": "code",
   "execution_count": null,
   "metadata": {},
   "outputs": [],
   "source": [
    "include(\"create_jmds.jl\")"
   ]
  },
  {
   "cell_type": "code",
   "execution_count": 15,
   "metadata": {},
   "outputs": [],
   "source": [
    "#https://github.com/FluxML/model-zoo/blob/master/other/iris/iris.jl\n",
    "using Flux\n",
    "using Flux: crossentropy, normalise, onecold, onehotbatch\n",
    "using Statistics: mean"
   ]
  },
  {
   "cell_type": "code",
   "execution_count": 10,
   "metadata": {},
   "outputs": [
    {
     "name": "stderr",
     "output_type": "stream",
     "text": [
      "┌ Info: Downloading iris dataset.\n",
      "└ @ Flux.Data.Iris C:\\Users\\chris\\.julia\\packages\\Flux\\NpkMm\\src\\data\\iris.jl:24\n"
     ]
    },
    {
     "data": {
      "text/plain": [
       "4×150 Array{Float64,2}:\n",
       " 5.1  4.9  4.7  4.6  5.0  5.4  4.6  5.0  …  6.8  6.7  6.7  6.3  6.5  6.2  5.9\n",
       " 3.5  3.0  3.2  3.1  3.6  3.9  3.4  3.4     3.2  3.3  3.0  2.5  3.0  3.4  3.0\n",
       " 1.4  1.4  1.3  1.5  1.4  1.7  1.4  1.5     5.9  5.7  5.2  5.0  5.2  5.4  5.1\n",
       " 0.2  0.2  0.2  0.2  0.2  0.4  0.3  0.2     2.3  2.5  2.3  1.9  2.0  2.3  1.8"
      ]
     },
     "execution_count": 10,
     "metadata": {},
     "output_type": "execute_result"
    }
   ],
   "source": [
    "labels = Flux.Data.Iris.labels()\n",
    "features = Flux.Data.Iris.features()"
   ]
  },
  {
   "cell_type": "code",
   "execution_count": 11,
   "metadata": {},
   "outputs": [
    {
     "data": {
      "text/plain": [
       "3×50 Flux.OneHotMatrix{Array{Flux.OneHotVector,1}}:\n",
       " 1  1  1  1  1  1  1  1  1  1  1  1  1  …  0  0  0  0  0  0  0  0  0  0  0  0\n",
       " 0  0  0  0  0  0  0  0  0  0  0  0  0     0  0  0  0  0  0  0  0  0  0  0  0\n",
       " 0  0  0  0  0  0  0  0  0  0  0  0  0     1  1  1  1  1  1  1  1  1  1  1  1"
      ]
     },
     "execution_count": 11,
     "metadata": {},
     "output_type": "execute_result"
    }
   ],
   "source": [
    "# Subract mean, divide by std dev for normed mean of 0 and std dev of 1.\n",
    "normed_features = normalise(features, dims=2)\n",
    "\n",
    "\n",
    "klasses = sort(unique(labels))\n",
    "onehot_labels = onehotbatch(labels, klasses)\n",
    "\n",
    "\n",
    "# Split into training and test sets, 2/3 for training, 1/3 for test.\n",
    "train_indices = [1:3:150 ; 2:3:150]\n",
    "\n",
    "X_train = normed_features[:, train_indices]\n",
    "y_train = onehot_labels[:, train_indices]\n",
    "\n",
    "X_test = normed_features[:, 3:3:150]\n",
    "y_test = onehot_labels[:, 3:3:150]"
   ]
  },
  {
   "cell_type": "code",
   "execution_count": 12,
   "metadata": {},
   "outputs": [
    {
     "name": "stdout",
     "output_type": "stream",
     "text": [
      "Starting training.\n"
     ]
    }
   ],
   "source": [
    "# Declare model taking 4 features as inputs and outputting 3 probabiltiies, \n",
    "# one for each species of iris.\n",
    "model = Chain(\n",
    "    Dense(4, 3),\n",
    "    softmax\n",
    ")\n",
    "\n",
    "loss(x, y) = crossentropy(model(x), y)\n",
    "\n",
    "# Gradient descent optimiser with learning rate 0.5.\n",
    "optimiser = Descent(0.5)\n",
    "\n",
    "# Create iterator to train model over 110 epochs.\n",
    "data_iterator = Iterators.repeated((X_train, y_train), 110)\n",
    "\n",
    "println(\"Starting training.\")\n",
    "Flux.train!(loss, params(model), data_iterator, optimiser)"
   ]
  },
  {
   "cell_type": "code",
   "execution_count": 13,
   "metadata": {},
   "outputs": [
    {
     "name": "stdout",
     "output_type": "stream",
     "text": [
      "\n",
      "Accuracy: 0.94\n"
     ]
    }
   ],
   "source": [
    "# Evaluate trained model against test set.\n",
    "accuracy(x, y) = mean(onecold(model(x)) .== onecold(y))\n",
    "\n",
    "accuracy_score = accuracy(X_test, y_test)\n",
    "\n",
    "println(\"\\nAccuracy: $accuracy_score\")\n",
    "\n",
    "# Sanity check.\n",
    "@assert accuracy_score > 0.8"
   ]
  },
  {
   "cell_type": "code",
   "execution_count": 16,
   "metadata": {},
   "outputs": [
    {
     "name": "stdout",
     "output_type": "stream",
     "text": [
      "\n",
      "Confusion Matrix:\n",
      "\n"
     ]
    },
    {
     "data": {
      "text/plain": [
       "3×3 Array{Int64,2}:\n",
       " 16   0   0\n",
       "  0  16   1\n",
       "  0   2  15"
      ]
     },
     "execution_count": 16,
     "metadata": {},
     "output_type": "execute_result"
    }
   ],
   "source": [
    "function confusion_matrix(X, y)\n",
    "    ŷ = onehotbatch(onecold(model(X)), 1:3)\n",
    "    y * ŷ'\n",
    "end\n",
    "#To avoid confusion, here is the definition of a Confusion Matrix: https://en.wikipedia.org/wiki/Confusion_matrix\n",
    "println(\"\\nConfusion Matrix:\\n\")\n",
    "confusion_matrix(X_test, y_test)"
   ]
  },
  {
   "cell_type": "markdown",
   "metadata": {},
   "source": [
    "# Notes\n",
    "David Banks gives few hour overview of ML\n",
    "give ML context in notebook\n",
    "\n",
    "classifying stability of planetary systems?\n",
    "\n",
    "make ROC curves?\n",
    "\n",
    "show how optimizer is improving things as it works\n",
    "\n",
    "show right answer with a linear problem\n",
    "\n",
    "linear and logistic regression\n",
    "\n",
    "regulatization terms?\n",
    "\n",
    "## more specifically...\n",
    "\n",
    "simple tutorial\n",
    "\n",
    "show a problem that you dont need optimization to solve, but then solve it with optimization methods\n",
    "\n",
    "compare iterative methods to analytical\n",
    "\n",
    "what if we want a regulatization for sparseity/some breaking assumption\n",
    "\n",
    "everyone will achieve something - have a bonus exploring thing at the end\n",
    "\n",
    "hand holdy -> advanced (do the same problem with more dimensions to see scaling)\n",
    "\n",
    "comparing algorithms"
   ]
  },
  {
   "cell_type": "code",
   "execution_count": null,
   "metadata": {},
   "outputs": [],
   "source": []
  }
 ],
 "metadata": {
  "kernelspec": {
   "display_name": "Julia 1.0.2",
   "language": "julia",
   "name": "julia-1.0"
  },
  "language_info": {
   "file_extension": ".jl",
   "mimetype": "application/julia",
   "name": "julia",
   "version": "1.3.1"
  }
 },
 "nbformat": 4,
 "nbformat_minor": 4
}
